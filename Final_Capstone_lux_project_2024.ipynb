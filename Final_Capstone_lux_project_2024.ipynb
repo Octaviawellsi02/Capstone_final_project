{
 "cells": [
  {
   "cell_type": "markdown",
   "id": "95653a28-5b66-4514-a3cc-db76e21e0695",
   "metadata": {},
   "source": [
    "# QUESTION 1"
   ]
  },
  {
   "cell_type": "markdown",
   "id": "99ed237c-361e-43b6-b947-d9f6ce02339b",
   "metadata": {},
   "source": [
    "Objective:\n",
    "Develop a machine learning model to predict Telco customer churn (i.e., customers likely to stop using a product or service) and devise strategies to reduce churn rates based on your findings."
   ]
  },
  {
   "cell_type": "markdown",
   "id": "90cb87bb-1bf4-4605-a016-d792b2566d32",
   "metadata": {},
   "source": [
    "# 1. Import Libraries"
   ]
  },
  {
   "cell_type": "code",
   "execution_count": 64,
   "id": "7d83df81-ec3a-4513-a639-b1a9397d7cb2",
   "metadata": {},
   "outputs": [],
   "source": [
    "import pandas as pd\n",
    "import numpy as np\n",
    "import matplotlib.pyplot as plt\n",
    "import seaborn as sns\n",
    "from sklearn.model_selection import train_test_split\n",
    "from sklearn.preprocessing import StandardScaler, LabelEncoder\n",
    "from sklearn.ensemble import RandomForestClassifier\n",
    "from sklearn.metrics import classification_report, confusion_matrix, accuracy_score\n"
   ]
  },
  {
   "cell_type": "markdown",
   "id": "27561d3d-cf7e-4375-89c8-d3c7395a0b27",
   "metadata": {},
   "source": [
    "# 2. Load the Data"
   ]
  },
  {
   "cell_type": "code",
   "execution_count": 66,
   "id": "25ba9f22-0398-4ed0-b637-d6da6f3d0047",
   "metadata": {},
   "outputs": [
    {
     "data": {
      "text/html": [
       "<div>\n",
       "<style scoped>\n",
       "    .dataframe tbody tr th:only-of-type {\n",
       "        vertical-align: middle;\n",
       "    }\n",
       "\n",
       "    .dataframe tbody tr th {\n",
       "        vertical-align: top;\n",
       "    }\n",
       "\n",
       "    .dataframe thead th {\n",
       "        text-align: right;\n",
       "    }\n",
       "</style>\n",
       "<table border=\"1\" class=\"dataframe\">\n",
       "  <thead>\n",
       "    <tr style=\"text-align: right;\">\n",
       "      <th></th>\n",
       "      <th>customerID</th>\n",
       "      <th>gender</th>\n",
       "      <th>SeniorCitizen</th>\n",
       "      <th>Partner</th>\n",
       "      <th>Dependents</th>\n",
       "      <th>tenure</th>\n",
       "      <th>PhoneService</th>\n",
       "      <th>MultipleLines</th>\n",
       "      <th>InternetService</th>\n",
       "      <th>OnlineSecurity</th>\n",
       "      <th>...</th>\n",
       "      <th>DeviceProtection</th>\n",
       "      <th>TechSupport</th>\n",
       "      <th>StreamingTV</th>\n",
       "      <th>StreamingMovies</th>\n",
       "      <th>Contract</th>\n",
       "      <th>PaperlessBilling</th>\n",
       "      <th>PaymentMethod</th>\n",
       "      <th>MonthlyCharges</th>\n",
       "      <th>TotalCharges</th>\n",
       "      <th>Churn</th>\n",
       "    </tr>\n",
       "  </thead>\n",
       "  <tbody>\n",
       "    <tr>\n",
       "      <th>0</th>\n",
       "      <td>7590-VHVEG</td>\n",
       "      <td>Female</td>\n",
       "      <td>0</td>\n",
       "      <td>Yes</td>\n",
       "      <td>No</td>\n",
       "      <td>1</td>\n",
       "      <td>No</td>\n",
       "      <td>No phone service</td>\n",
       "      <td>DSL</td>\n",
       "      <td>No</td>\n",
       "      <td>...</td>\n",
       "      <td>No</td>\n",
       "      <td>No</td>\n",
       "      <td>No</td>\n",
       "      <td>No</td>\n",
       "      <td>Month-to-month</td>\n",
       "      <td>Yes</td>\n",
       "      <td>Electronic check</td>\n",
       "      <td>29.85</td>\n",
       "      <td>29.85</td>\n",
       "      <td>No</td>\n",
       "    </tr>\n",
       "    <tr>\n",
       "      <th>1</th>\n",
       "      <td>5575-GNVDE</td>\n",
       "      <td>Male</td>\n",
       "      <td>0</td>\n",
       "      <td>No</td>\n",
       "      <td>No</td>\n",
       "      <td>34</td>\n",
       "      <td>Yes</td>\n",
       "      <td>No</td>\n",
       "      <td>DSL</td>\n",
       "      <td>Yes</td>\n",
       "      <td>...</td>\n",
       "      <td>Yes</td>\n",
       "      <td>No</td>\n",
       "      <td>No</td>\n",
       "      <td>No</td>\n",
       "      <td>One year</td>\n",
       "      <td>No</td>\n",
       "      <td>Mailed check</td>\n",
       "      <td>56.95</td>\n",
       "      <td>1889.5</td>\n",
       "      <td>No</td>\n",
       "    </tr>\n",
       "    <tr>\n",
       "      <th>2</th>\n",
       "      <td>3668-QPYBK</td>\n",
       "      <td>Male</td>\n",
       "      <td>0</td>\n",
       "      <td>No</td>\n",
       "      <td>No</td>\n",
       "      <td>2</td>\n",
       "      <td>Yes</td>\n",
       "      <td>No</td>\n",
       "      <td>DSL</td>\n",
       "      <td>Yes</td>\n",
       "      <td>...</td>\n",
       "      <td>No</td>\n",
       "      <td>No</td>\n",
       "      <td>No</td>\n",
       "      <td>No</td>\n",
       "      <td>Month-to-month</td>\n",
       "      <td>Yes</td>\n",
       "      <td>Mailed check</td>\n",
       "      <td>53.85</td>\n",
       "      <td>108.15</td>\n",
       "      <td>Yes</td>\n",
       "    </tr>\n",
       "    <tr>\n",
       "      <th>3</th>\n",
       "      <td>7795-CFOCW</td>\n",
       "      <td>Male</td>\n",
       "      <td>0</td>\n",
       "      <td>No</td>\n",
       "      <td>No</td>\n",
       "      <td>45</td>\n",
       "      <td>No</td>\n",
       "      <td>No phone service</td>\n",
       "      <td>DSL</td>\n",
       "      <td>Yes</td>\n",
       "      <td>...</td>\n",
       "      <td>Yes</td>\n",
       "      <td>Yes</td>\n",
       "      <td>No</td>\n",
       "      <td>No</td>\n",
       "      <td>One year</td>\n",
       "      <td>No</td>\n",
       "      <td>Bank transfer (automatic)</td>\n",
       "      <td>42.30</td>\n",
       "      <td>1840.75</td>\n",
       "      <td>No</td>\n",
       "    </tr>\n",
       "    <tr>\n",
       "      <th>4</th>\n",
       "      <td>9237-HQITU</td>\n",
       "      <td>Female</td>\n",
       "      <td>0</td>\n",
       "      <td>No</td>\n",
       "      <td>No</td>\n",
       "      <td>2</td>\n",
       "      <td>Yes</td>\n",
       "      <td>No</td>\n",
       "      <td>Fiber optic</td>\n",
       "      <td>No</td>\n",
       "      <td>...</td>\n",
       "      <td>No</td>\n",
       "      <td>No</td>\n",
       "      <td>No</td>\n",
       "      <td>No</td>\n",
       "      <td>Month-to-month</td>\n",
       "      <td>Yes</td>\n",
       "      <td>Electronic check</td>\n",
       "      <td>70.70</td>\n",
       "      <td>151.65</td>\n",
       "      <td>Yes</td>\n",
       "    </tr>\n",
       "  </tbody>\n",
       "</table>\n",
       "<p>5 rows × 21 columns</p>\n",
       "</div>"
      ],
      "text/plain": [
       "   customerID  gender  SeniorCitizen Partner Dependents  tenure PhoneService  \\\n",
       "0  7590-VHVEG  Female              0     Yes         No       1           No   \n",
       "1  5575-GNVDE    Male              0      No         No      34          Yes   \n",
       "2  3668-QPYBK    Male              0      No         No       2          Yes   \n",
       "3  7795-CFOCW    Male              0      No         No      45           No   \n",
       "4  9237-HQITU  Female              0      No         No       2          Yes   \n",
       "\n",
       "      MultipleLines InternetService OnlineSecurity  ... DeviceProtection  \\\n",
       "0  No phone service             DSL             No  ...               No   \n",
       "1                No             DSL            Yes  ...              Yes   \n",
       "2                No             DSL            Yes  ...               No   \n",
       "3  No phone service             DSL            Yes  ...              Yes   \n",
       "4                No     Fiber optic             No  ...               No   \n",
       "\n",
       "  TechSupport StreamingTV StreamingMovies        Contract PaperlessBilling  \\\n",
       "0          No          No              No  Month-to-month              Yes   \n",
       "1          No          No              No        One year               No   \n",
       "2          No          No              No  Month-to-month              Yes   \n",
       "3         Yes          No              No        One year               No   \n",
       "4          No          No              No  Month-to-month              Yes   \n",
       "\n",
       "               PaymentMethod MonthlyCharges  TotalCharges Churn  \n",
       "0           Electronic check          29.85         29.85    No  \n",
       "1               Mailed check          56.95        1889.5    No  \n",
       "2               Mailed check          53.85        108.15   Yes  \n",
       "3  Bank transfer (automatic)          42.30       1840.75    No  \n",
       "4           Electronic check          70.70        151.65   Yes  \n",
       "\n",
       "[5 rows x 21 columns]"
      ]
     },
     "execution_count": 66,
     "metadata": {},
     "output_type": "execute_result"
    }
   ],
   "source": [
    "import pandas as pd\n",
    "\n",
    "# Load the dataset\n",
    "file_path = r\"C:\\Users\\octav\\Downloads\\Lux Capstone final project\\WA_Fn-UseC_-Telco-Customer-Churn.csv\"\n",
    "df = pd.read_csv(file_path)\n",
    "\n",
    "# Display the first few rows of the dataset\n",
    "df.head()\n"
   ]
  },
  {
   "cell_type": "markdown",
   "id": "e075cc6e-630e-4fda-b0a9-dfdca0af3ffb",
   "metadata": {},
   "source": [
    "# 3. Data Exploration"
   ]
  },
  {
   "cell_type": "code",
   "execution_count": 68,
   "id": "519be19d-1690-4eb5-abda-643be9caedcd",
   "metadata": {},
   "outputs": [
    {
     "name": "stdout",
     "output_type": "stream",
     "text": [
      "<class 'pandas.core.frame.DataFrame'>\n",
      "RangeIndex: 7043 entries, 0 to 7042\n",
      "Data columns (total 21 columns):\n",
      " #   Column            Non-Null Count  Dtype  \n",
      "---  ------            --------------  -----  \n",
      " 0   customerID        7043 non-null   object \n",
      " 1   gender            7043 non-null   object \n",
      " 2   SeniorCitizen     7043 non-null   int64  \n",
      " 3   Partner           7043 non-null   object \n",
      " 4   Dependents        7043 non-null   object \n",
      " 5   tenure            7043 non-null   int64  \n",
      " 6   PhoneService      7043 non-null   object \n",
      " 7   MultipleLines     7043 non-null   object \n",
      " 8   InternetService   7043 non-null   object \n",
      " 9   OnlineSecurity    7043 non-null   object \n",
      " 10  OnlineBackup      7043 non-null   object \n",
      " 11  DeviceProtection  7043 non-null   object \n",
      " 12  TechSupport       7043 non-null   object \n",
      " 13  StreamingTV       7043 non-null   object \n",
      " 14  StreamingMovies   7043 non-null   object \n",
      " 15  Contract          7043 non-null   object \n",
      " 16  PaperlessBilling  7043 non-null   object \n",
      " 17  PaymentMethod     7043 non-null   object \n",
      " 18  MonthlyCharges    7043 non-null   float64\n",
      " 19  TotalCharges      7043 non-null   object \n",
      " 20  Churn             7043 non-null   object \n",
      "dtypes: float64(1), int64(2), object(18)\n",
      "memory usage: 1.1+ MB\n"
     ]
    },
    {
     "data": {
      "text/plain": [
       "customerID          0\n",
       "gender              0\n",
       "SeniorCitizen       0\n",
       "Partner             0\n",
       "Dependents          0\n",
       "tenure              0\n",
       "PhoneService        0\n",
       "MultipleLines       0\n",
       "InternetService     0\n",
       "OnlineSecurity      0\n",
       "OnlineBackup        0\n",
       "DeviceProtection    0\n",
       "TechSupport         0\n",
       "StreamingTV         0\n",
       "StreamingMovies     0\n",
       "Contract            0\n",
       "PaperlessBilling    0\n",
       "PaymentMethod       0\n",
       "MonthlyCharges      0\n",
       "TotalCharges        0\n",
       "Churn               0\n",
       "dtype: int64"
      ]
     },
     "execution_count": 68,
     "metadata": {},
     "output_type": "execute_result"
    }
   ],
   "source": [
    "# Check the basic information of the dataset\n",
    "df.info()\n",
    "\n",
    "# Summary statistics of the dataset\n",
    "df.describe()\n",
    "\n",
    "# Check for missing values\n",
    "df.isnull().sum()\n"
   ]
  },
  {
   "cell_type": "markdown",
   "id": "198fc77e-88a8-49ed-a4ae-a48b5a9b2b96",
   "metadata": {},
   "source": [
    "# 4. Data Cleaning"
   ]
  },
  {
   "cell_type": "code",
   "execution_count": 70,
   "id": "5ba6d7f6-c84c-4bb1-be6d-b6442e503d86",
   "metadata": {},
   "outputs": [
    {
     "name": "stdout",
     "output_type": "stream",
     "text": [
      "gender              0\n",
      "SeniorCitizen       0\n",
      "Partner             0\n",
      "Dependents          0\n",
      "tenure              0\n",
      "PhoneService        0\n",
      "MultipleLines       0\n",
      "InternetService     0\n",
      "OnlineSecurity      0\n",
      "OnlineBackup        0\n",
      "DeviceProtection    0\n",
      "TechSupport         0\n",
      "StreamingTV         0\n",
      "StreamingMovies     0\n",
      "Contract            0\n",
      "PaperlessBilling    0\n",
      "PaymentMethod       0\n",
      "MonthlyCharges      0\n",
      "TotalCharges        0\n",
      "Churn               0\n",
      "dtype: int64\n"
     ]
    }
   ],
   "source": [
    "# Step 4: Data Cleaning\n",
    "\n",
    "# 4.1 Check if the customerID column exists before dropping it\n",
    "if 'customerID' in df.columns:\n",
    "    df = df.drop('customerID', axis=1)\n",
    "else:\n",
    "    print(\"customerID column not found in the dataset.\")\n",
    "\n",
    "# 4.2 Converting TotalCharges to numeric, setting errors='coerce' will turn non-numeric values into NaN\n",
    "df['TotalCharges'] = pd.to_numeric(df['TotalCharges'], errors='coerce')\n",
    "\n",
    "# 4.3 Filling missing values in TotalCharges with the median value\n",
    "df['TotalCharges'] = df['TotalCharges'].fillna(df['TotalCharges'].median())\n",
    "\n",
    "# 4.4 Verify that no missing values remain\n",
    "print(df.isnull().sum())\n"
   ]
  },
  {
   "cell_type": "markdown",
   "id": "f8f90397-d66c-4f21-9729-580e9aa6a0d1",
   "metadata": {},
   "source": [
    "# 5. Data Visualization"
   ]
  },
  {
   "cell_type": "code",
   "execution_count": 72,
   "id": "f88b898e-8f79-4f06-acec-a3d8feea29a0",
   "metadata": {},
   "outputs": [
    {
     "data": {
      "image/png": "[encoded data removed]",
      "text/plain": [
       "<Figure size 640x480 with 1 Axes>"
      ]
     },
     "metadata": {},
     "output_type": "display_data"
    },
    {
     "data": {
      "image/png": "[encoded data removed]",
      "text/plain": [
       "<Figure size 640x480 with 1 Axes>"
      ]
     },
     "metadata": {},
     "output_type": "display_data"
    }
   ],
   "source": [
    "# Visualizing the distribution of churn\n",
    "sns.countplot(x='Churn', data=df)\n",
    "plt.title('Distribution of Churn')\n",
    "plt.show()\n",
    "\n",
    "# Visualizing the relationship between tenure and churn\n",
    "sns.histplot(data=df, x='tenure', hue='Churn', multiple='stack')\n",
    "plt.title('Tenure vs Churn')\n",
    "plt.show()\n"
   ]
  },
  {
   "cell_type": "markdown",
   "id": "9381f411-75e8-425e-83fe-725d591c921d",
   "metadata": {},
   "source": [
    "# 6. Feature Engineering"
   ]
  },
  {
   "cell_type": "code",
   "execution_count": 76,
   "id": "59d9c0d8-3831-4e1b-a529-2eb6e6a34449",
   "metadata": {},
   "outputs": [],
   "source": [
    "# Encoding categorical features using LabelEncoder\n",
    "label_encoder = LabelEncoder()\n",
    "for column in df.select_dtypes(include=['object']).columns:\n",
    "    df[column] = label_encoder.fit_transform(df[column])\n",
    "\n",
    "# Splitting data into features and target variable\n",
    "X = df.drop('Churn', axis=1)\n",
    "y = df['Churn']\n",
    "\n",
    "# Splitting data into training and testing sets\n",
    "X_train, X_test, y_train, y_test = train_test_split(X, y, test_size=0.2, random_state=42)\n",
    "\n",
    "# Feature scaling\n",
    "scaler = StandardScaler()\n",
    "X_train = scaler.fit_transform(X_train)\n",
    "X_test = scaler.transform(X_test)\n"
   ]
  },
  {
   "cell_type": "code",
   "execution_count": null,
   "id": "bb1bfd18-a433-41bb-88b9-7986b5c9605a",
   "metadata": {},
   "outputs": [],
   "source": []
  },
  {
   "cell_type": "markdown",
   "id": "062a681c-749b-4151-8436-088f637a267d",
   "metadata": {},
   "source": [
    "# 7. Modeling"
   ]
  },
  {
   "cell_type": "code",
   "execution_count": 78,
   "id": "be414838-0e2f-4687-8815-09256e40f3a2",
   "metadata": {},
   "outputs": [
    {
     "name": "stdout",
     "output_type": "stream",
     "text": [
      "Accuracy: 0.7963094393186657\n",
      "\n",
      "Confusion Matrix:\n",
      " [[946  90]\n",
      " [197 176]]\n",
      "\n",
      "Classification Report:\n",
      "               precision    recall  f1-score   support\n",
      "\n",
      "           0       0.83      0.91      0.87      1036\n",
      "           1       0.66      0.47      0.55       373\n",
      "\n",
      "    accuracy                           0.80      1409\n",
      "   macro avg       0.74      0.69      0.71      1409\n",
      "weighted avg       0.78      0.80      0.78      1409\n",
      "\n"
     ]
    }
   ],
   "source": [
    "# Initialize the RandomForestClassifier\n",
    "model = RandomForestClassifier(n_estimators=100, random_state=42)\n",
    "\n",
    "# Fit the model\n",
    "model.fit(X_train, y_train)\n",
    "\n",
    "# Predict on the test set\n",
    "y_pred = model.predict(X_test)\n",
    "\n",
    "# Evaluate the model\n",
    "print(\"Accuracy:\", accuracy_score(y_test, y_pred))\n",
    "print(\"\\nConfusion Matrix:\\n\", confusion_matrix(y_test, y_pred))\n",
    "print(\"\\nClassification Report:\\n\", classification_report(y_test, y_pred))\n"
   ]
  },
  {
   "cell_type": "markdown",
   "id": "85f4a7b9-83c8-4339-b0ad-dc04bb0d29d0",
   "metadata": {},
   "source": [
    "# 8. Model Evaluation and Interpretation"
   ]
  },
  {
   "cell_type": "code",
   "execution_count": 80,
   "id": "5b12495e-378c-4660-94d0-954f4ce148c1",
   "metadata": {},
   "outputs": [
    {
     "data": {
      "image/png": "[encoded data removed]",
      "text/plain": [
       "<Figure size 1000x800 with 1 Axes>"
      ]
     },
     "metadata": {},
     "output_type": "display_data"
    }
   ],
   "source": [
    "# Feature importance\n",
    "importance = model.feature_importances_\n",
    "features = X.columns\n",
    "feature_importance = pd.Series(importance, index=features).sort_values(ascending=False)\n",
    "\n",
    "# Plotting the feature importance\n",
    "plt.figure(figsize=(10, 8))\n",
    "sns.barplot(x=feature_importance, y=feature_importance.index)\n",
    "plt.title('Feature Importance')\n",
    "plt.show()\n"
   ]
  },
  {
   "cell_type": "markdown",
   "id": "abb530bb-3757-4f44-907d-90082844feef",
   "metadata": {},
   "source": [
    "# Question 2"
   ]
  },
  {
   "cell_type": "markdown",
   "id": "75b56136-61c4-4f9c-af7e-f04af6689861",
   "metadata": {},
   "source": [
    "Data Preprocessing:\n",
    "Clean the dataset by handling missing values, encoding categorical variables, and scaling numerical features.\n",
    "Perform feature engineering to create new features that could influence churn, such as average transaction value, frequency of customer service interactions, and tenure with the company."
   ]
  },
  {
   "cell_type": "markdown",
   "id": "ba001580-b765-4633-945b-fd28770a0833",
   "metadata": {},
   "source": [
    "# 1. Handling Missing Values"
   ]
  },
  {
   "cell_type": "code",
   "execution_count": 82,
   "id": "8e208fe5-f9ba-4a59-b053-2f47aec28ccb",
   "metadata": {},
   "outputs": [
    {
     "name": "stdout",
     "output_type": "stream",
     "text": [
      "gender              0\n",
      "SeniorCitizen       0\n",
      "Partner             0\n",
      "Dependents          0\n",
      "tenure              0\n",
      "PhoneService        0\n",
      "MultipleLines       0\n",
      "InternetService     0\n",
      "OnlineSecurity      0\n",
      "OnlineBackup        0\n",
      "DeviceProtection    0\n",
      "TechSupport         0\n",
      "StreamingTV         0\n",
      "StreamingMovies     0\n",
      "Contract            0\n",
      "PaperlessBilling    0\n",
      "PaymentMethod       0\n",
      "MonthlyCharges      0\n",
      "TotalCharges        0\n",
      "Churn               0\n",
      "dtype: int64\n"
     ]
    }
   ],
   "source": [
    "# Check for missing values in the dataset\n",
    "print(df.isnull().sum())\n"
   ]
  },
  {
   "cell_type": "markdown",
   "id": "61d8930c-ce70-460a-8838-305261a36845",
   "metadata": {},
   "source": [
    "# 2. Encoding Categorical Variables"
   ]
  },
  {
   "cell_type": "markdown",
   "id": "f30ba66f-58d0-452d-9918-0789d617a736",
   "metadata": {},
   "source": [
    "Encoding Categorical Variables with LabelEncoder"
   ]
  },
  {
   "cell_type": "code",
   "execution_count": 112,
   "id": "0653e258-4437-4b85-bc7a-261ac871358a",
   "metadata": {},
   "outputs": [
    {
     "name": "stdout",
     "output_type": "stream",
     "text": [
      "Dataset after Label Encoding (Ordinal Variables):\n",
      "   Contract\n",
      "0         0\n",
      "1         1\n",
      "2         0\n",
      "3         1\n",
      "4         0\n"
     ]
    }
   ],
   "source": [
    "from sklearn.preprocessing import LabelEncoder\n",
    "\n",
    "# Assume 'Contract' is an ordinal categorical variable (for example)\n",
    "ordinal_features = ['Contract']  # Replace with actual ordinal features in your dataset\n",
    "\n",
    "# Initialize label encoder\n",
    "label_encoder = LabelEncoder()\n",
    "\n",
    "# Apply label encoding to ordinal features\n",
    "for col in ordinal_features:\n",
    "    df[col] = label_encoder.fit_transform(df[col])\n",
    "\n",
    "# Display the first few rows of the dataset after label encoding\n",
    "print(\"Dataset after Label Encoding (Ordinal Variables):\")\n",
    "print(df[ordinal_features].head())\n"
   ]
  },
  {
   "cell_type": "markdown",
   "id": "a1e7340f-e2b9-414d-951a-d702c33e7802",
   "metadata": {},
   "source": [
    "Encoding Categorical Variables with One-Hot Encoding"
   ]
  },
  {
   "cell_type": "code",
   "execution_count": 116,
   "id": "163fd915-bb48-4d6e-a21e-438545e3aa1a",
   "metadata": {},
   "outputs": [
    {
     "name": "stdout",
     "output_type": "stream",
     "text": [
      "Dataset after One-Hot Encoding (Nominal Variables):\n",
      "   gender  SeniorCitizen  Partner  Dependents  PhoneService  MultipleLines  \\\n",
      "0       0              0        1           0             0              1   \n",
      "1       1              0        0           0             1              0   \n",
      "2       1              0        0           0             1              0   \n",
      "3       1              0        0           0             0              1   \n",
      "4       0              0        0           0             1              0   \n",
      "\n",
      "   InternetService  OnlineSecurity  OnlineBackup  DeviceProtection  ...  \\\n",
      "0                0               0             2                 0  ...   \n",
      "1                0               2             0                 2  ...   \n",
      "2                0               2             2                 0  ...   \n",
      "3                0               2             0                 2  ...   \n",
      "4                1               0             0                 0  ...   \n",
      "\n",
      "   StreamingTV  StreamingMovies  Contract  PaperlessBilling  PaymentMethod  \\\n",
      "0            0                0         0                 1              2   \n",
      "1            0                0         1                 0              3   \n",
      "2            0                0         0                 1              3   \n",
      "3            0                0         1                 0              0   \n",
      "4            0                0         0                 1              2   \n",
      "\n",
      "   MonthlyCharges  Churn  AverageTransactionValue  \\\n",
      "0           29.85      0                14.925000   \n",
      "1           56.95      0                53.985714   \n",
      "2           53.85      1                36.050000   \n",
      "3           42.30      0                40.016304   \n",
      "4           70.70      1                50.550000   \n",
      "\n",
      "   CustomerServiceInteractions  Tenure  \n",
      "0                            1       1  \n",
      "1                            0      34  \n",
      "2                            0       2  \n",
      "3                            3      45  \n",
      "4                            1       2  \n",
      "\n",
      "[5 rows x 21 columns]\n"
     ]
    }
   ],
   "source": [
    "# Identify categorical columns (excluding ordinal features already encoded)\n",
    "nominal_features = df.select_dtypes(include=['object']).columns.tolist()\n",
    "\n",
    "# Apply one-hot encoding to nominal categorical features\n",
    "df_encoded = pd.get_dummies(df, columns=nominal_features, drop_first=True)\n",
    "\n",
    "# Display the first few rows of the dataset after one-hot encoding\n",
    "print(\"Dataset after One-Hot Encoding (Nominal Variables):\")\n",
    "print(df_encoded.head())\n"
   ]
  },
  {
   "cell_type": "markdown",
   "id": "240c4ba2-8b7d-4b48-900e-c4c32bfc323b",
   "metadata": {},
   "source": [
    "Full combined outputs "
   ]
  },
  {
   "cell_type": "code",
   "execution_count": 119,
   "id": "cb7a5cda-ce26-4b6c-b9a3-7ce21cc96ebe",
   "metadata": {},
   "outputs": [
    {
     "name": "stdout",
     "output_type": "stream",
     "text": [
      "Dataset after Label Encoding (Contract):\n",
      "   Contract\n",
      "0         0\n",
      "1         1\n",
      "2         2\n",
      "3         0\n",
      "\n",
      "Dataset after One-Hot Encoding (Gender and InternetService):\n",
      "   Contract  Gender_Male  InternetService_Fiber optic\n",
      "0         0         True                        False\n",
      "1         1        False                         True\n",
      "2         2        False                        False\n",
      "3         0         True                         True\n"
     ]
    }
   ],
   "source": [
    "import pandas as pd\n",
    "from sklearn.preprocessing import LabelEncoder\n",
    "\n",
    "# Sample data to demonstrate (you'll replace this with your actual dataset)\n",
    "data = {\n",
    "    'Gender': ['Male', 'Female', 'Female', 'Male'],\n",
    "    'Contract': ['Month-to-month', 'One year', 'Two year', 'Month-to-month'],\n",
    "    'InternetService': ['DSL', 'Fiber optic', 'DSL', 'Fiber optic']\n",
    "}\n",
    "\n",
    "df = pd.DataFrame(data)\n",
    "\n",
    "# Label encoding for ordinal variable 'Contract'\n",
    "label_encoder = LabelEncoder()\n",
    "df['Contract'] = label_encoder.fit_transform(df['Contract'])\n",
    "\n",
    "print(\"Dataset after Label Encoding (Contract):\")\n",
    "print(df[['Contract']])\n",
    "\n",
    "# One-Hot Encoding for nominal variables\n",
    "df_encoded = pd.get_dummies(df, columns=['Gender', 'InternetService'], drop_first=True)\n",
    "\n",
    "print(\"\\nDataset after One-Hot Encoding (Gender and InternetService):\")\n",
    "print(df_encoded)\n"
   ]
  },
  {
   "cell_type": "markdown",
   "id": "1e66ab40-38a4-4d07-993c-a66ffec33a25",
   "metadata": {},
   "source": [
    "# 3. Scaling Numerical Features"
   ]
  },
  {
   "cell_type": "code",
   "execution_count": 88,
   "id": "6bc8f77b-7a7f-41c4-b662-ce8e70a386ee",
   "metadata": {},
   "outputs": [],
   "source": [
    "from sklearn.preprocessing import StandardScaler\n",
    "\n",
    "# Separate features and target variable\n",
    "X = df.drop('Churn', axis=1)\n",
    "y = df['Churn']\n",
    "\n",
    "# Apply scaling\n",
    "scaler = StandardScaler()\n",
    "X_scaled = scaler.fit_transform(X)\n"
   ]
  },
  {
   "cell_type": "code",
   "execution_count": 98,
   "id": "8db78e97-4b99-44f9-9226-851d7bab2f64",
   "metadata": {},
   "outputs": [
    {
     "name": "stdout",
     "output_type": "stream",
     "text": [
      "Shape of scaled features:\n",
      "(7043, 20)\n",
      "Sample of scaled features:\n",
      "[[-1.00955867 -0.43991649  1.03453023 -0.65401193 -3.05401039  0.06272275\n",
      "  -1.18323364 -0.91883775  1.24254983 -1.02791014 -0.92526212 -1.11349541\n",
      "  -1.12140513 -0.8282069   0.8297975   0.39855772 -1.16032292 -0.75797946\n",
      "  -1.13349385 -1.27744458]\n",
      " [ 0.99053183 -0.43991649 -0.96662231 -0.65401193  0.32743831 -0.9915883\n",
      "  -1.18323364  1.40732123 -1.02991925  1.24511061 -0.92526212 -1.11349541\n",
      "  -1.12140513  0.37127103 -1.20511329  1.33486261 -0.25962894 -0.11780141\n",
      "  -1.8372933   0.06632742]\n",
      " [ 0.99053183 -0.43991649 -0.96662231 -0.65401193  0.32743831 -0.9915883\n",
      "  -1.18323364  1.40732123  1.24254983 -1.02791014 -0.92526212 -1.11349541\n",
      "  -1.12140513 -0.8282069   0.8297975   1.33486261 -0.36266036 -0.41175534\n",
      "  -1.8372933  -1.23672422]\n",
      " [ 0.99053183 -0.43991649 -0.96662231 -0.65401193 -3.05401039  0.06272275\n",
      "  -1.18323364  1.40732123 -1.02991925  1.24511061  1.39629866 -1.11349541\n",
      "  -1.12140513  0.37127103 -1.20511329 -1.47405205 -0.74653546 -0.34675036\n",
      "   0.27410505  0.51425142]\n",
      " [-1.00955867 -0.43991649 -0.96662231 -0.65401193  0.32743831 -0.9915883\n",
      "   0.17225018 -0.91883775 -1.02991925 -1.02791014 -0.92526212 -1.11349541\n",
      "  -1.12140513 -0.8282069   0.8297975   0.39855772  0.19736523 -0.17411038\n",
      "  -1.13349385 -1.23672422]]\n"
     ]
    }
   ],
   "source": [
    "# Check the shape and a few rows of the scaled features\n",
    "print(\"Shape of scaled features:\")\n",
    "print(X_scaled.shape)\n",
    "\n",
    "print(\"Sample of scaled features:\")\n",
    "print(X_scaled[:5])\n"
   ]
  },
  {
   "cell_type": "markdown",
   "id": "7f212bbb-546a-4cd7-9321-daeaf8219be0",
   "metadata": {},
   "source": [
    "# 4. Feature Engineering"
   ]
  },
  {
   "cell_type": "code",
   "execution_count": 90,
   "id": "3351978f-f8d1-43e4-9f19-5cc9c0d873e6",
   "metadata": {},
   "outputs": [],
   "source": [
    "# Create new features (example features)\n",
    "df['AverageTransactionValue'] = df['TotalCharges'] / (df['tenure'] + 1)  # Avoid division by zero\n",
    "df['CustomerServiceInteractions'] = df[['MultipleLines', 'InternetService', 'TechSupport']].sum(axis=1)\n",
    "\n",
    "# Include tenure with the company (if not already included)\n",
    "df['Tenure'] = df['tenure']\n",
    "\n",
    "# Drop columns that are no longer needed\n",
    "df = df.drop(['TotalCharges', 'tenure'], axis=1)\n",
    "\n",
    "# Update features and target variable\n",
    "X = df.drop('Churn', axis=1)\n",
    "y = df['Churn']\n",
    "X_scaled = scaler.fit_transform(X)\n"
   ]
  },
  {
   "cell_type": "code",
   "execution_count": 100,
   "id": "0590d157-fac0-4d66-a3be-e3ba10007256",
   "metadata": {},
   "outputs": [
    {
     "name": "stdout",
     "output_type": "stream",
     "text": [
      "New features created:\n",
      "['AverageTransactionValue', 'CustomerServiceInteractions', 'Tenure']\n",
      "Sample of dataset with new features:\n",
      "   gender  SeniorCitizen  Partner  Dependents  PhoneService  MultipleLines  \\\n",
      "0       0              0        1           0             0              1   \n",
      "1       1              0        0           0             1              0   \n",
      "2       1              0        0           0             1              0   \n",
      "3       1              0        0           0             0              1   \n",
      "4       0              0        0           0             1              0   \n",
      "\n",
      "   InternetService  OnlineSecurity  OnlineBackup  DeviceProtection  ...  \\\n",
      "0                0               0             2                 0  ...   \n",
      "1                0               2             0                 2  ...   \n",
      "2                0               2             2                 0  ...   \n",
      "3                0               2             0                 2  ...   \n",
      "4                1               0             0                 0  ...   \n",
      "\n",
      "   StreamingTV  StreamingMovies  Contract  PaperlessBilling  PaymentMethod  \\\n",
      "0            0                0         0                 1              2   \n",
      "1            0                0         1                 0              3   \n",
      "2            0                0         0                 1              3   \n",
      "3            0                0         1                 0              0   \n",
      "4            0                0         0                 1              2   \n",
      "\n",
      "   MonthlyCharges  Churn  AverageTransactionValue  \\\n",
      "0           29.85      0                14.925000   \n",
      "1           56.95      0                53.985714   \n",
      "2           53.85      1                36.050000   \n",
      "3           42.30      0                40.016304   \n",
      "4           70.70      1                50.550000   \n",
      "\n",
      "   CustomerServiceInteractions  Tenure  \n",
      "0                            1       1  \n",
      "1                            0      34  \n",
      "2                            0       2  \n",
      "3                            3      45  \n",
      "4                            1       2  \n",
      "\n",
      "[5 rows x 21 columns]\n"
     ]
    }
   ],
   "source": [
    "# List of new features created\n",
    "new_features = ['AverageTransactionValue', 'CustomerServiceInteractions', 'Tenure']\n",
    "print(\"New features created:\")\n",
    "print(new_features)\n",
    "\n",
    "# Display the first few rows with new features\n",
    "print(\"Sample of dataset with new features:\")\n",
    "print(df.head())\n"
   ]
  },
  {
   "cell_type": "markdown",
   "id": "3f030641-4390-458b-afa2-f3fec886751d",
   "metadata": {},
   "source": [
    "# 5. Updated Dataset"
   ]
  },
  {
   "cell_type": "code",
   "execution_count": 104,
   "id": "09636b8b-9739-4ac1-a917-9bdf5eccfe95",
   "metadata": {},
   "outputs": [
    {
     "name": "stdout",
     "output_type": "stream",
     "text": [
      "Final shape of the dataset:\n",
      "(7043, 21)\n",
      "Sample of final dataset:\n",
      "   gender  SeniorCitizen  Partner  Dependents  PhoneService  MultipleLines  \\\n",
      "0       0              0        1           0             0              1   \n",
      "1       1              0        0           0             1              0   \n",
      "2       1              0        0           0             1              0   \n",
      "3       1              0        0           0             0              1   \n",
      "4       0              0        0           0             1              0   \n",
      "\n",
      "   InternetService  OnlineSecurity  OnlineBackup  DeviceProtection  ...  \\\n",
      "0                0               0             2                 0  ...   \n",
      "1                0               2             0                 2  ...   \n",
      "2                0               2             2                 0  ...   \n",
      "3                0               2             0                 2  ...   \n",
      "4                1               0             0                 0  ...   \n",
      "\n",
      "   StreamingTV  StreamingMovies  Contract  PaperlessBilling  PaymentMethod  \\\n",
      "0            0                0         0                 1              2   \n",
      "1            0                0         1                 0              3   \n",
      "2            0                0         0                 1              3   \n",
      "3            0                0         1                 0              0   \n",
      "4            0                0         0                 1              2   \n",
      "\n",
      "   MonthlyCharges  Churn  AverageTransactionValue  \\\n",
      "0           29.85      0                14.925000   \n",
      "1           56.95      0                53.985714   \n",
      "2           53.85      1                36.050000   \n",
      "3           42.30      0                40.016304   \n",
      "4           70.70      1                50.550000   \n",
      "\n",
      "   CustomerServiceInteractions  Tenure  \n",
      "0                            1       1  \n",
      "1                            0      34  \n",
      "2                            0       2  \n",
      "3                            3      45  \n",
      "4                            1       2  \n",
      "\n",
      "[5 rows x 21 columns]\n"
     ]
    }
   ],
   "source": [
    "# Show the final shape and a few rows of the updated dataset\n",
    "print(\"Final shape of the dataset:\")\n",
    "print(df.shape)\n",
    "\n",
    "print(\"Sample of final dataset:\")\n",
    "print(df.head())\n"
   ]
  },
  {
   "cell_type": "markdown",
   "id": "f075eb7b-a959-4dac-a86e-97b48e444b83",
   "metadata": {},
   "source": [
    "# Question 3"
   ]
  },
  {
   "cell_type": "markdown",
   "id": "0387253d-2903-4738-a5e8-cc566f958be1",
   "metadata": {},
   "source": [
    "Exploratory Data Analysis (EDA):\n",
    "Analyze the data to identify key factors contributing to churn.\n",
    "Use visualization techniques (e.g., histograms, heatmaps, boxplots) to explore the relationship between different features and customer churn.\n",
    "Segment customers based on behavior, demographics, or engagement levels to better understand the drivers of churn."
   ]
  },
  {
   "cell_type": "markdown",
   "id": "60c44c5f-a8de-49a8-8a5a-bf486082744a",
   "metadata": {},
   "source": [
    "# 1. Analyze Key Factors Contributing to Churn"
   ]
  },
  {
   "cell_type": "markdown",
   "id": "b58f5870-3eb5-493b-aa7f-224cb206e0b5",
   "metadata": {},
   "source": [
    "Churn Distribution"
   ]
  },
  {
   "cell_type": "markdown",
   "id": "1e0af78a-7388-4ab1-99ce-329de302b0e1",
   "metadata": {},
   "source": [
    "Adding  Churn Column"
   ]
  },
  {
   "cell_type": "code",
   "execution_count": 137,
   "id": "3cd890b5-21e4-4581-bf5b-7eb998f67f3f",
   "metadata": {},
   "outputs": [
    {
     "name": "stdout",
     "output_type": "stream",
     "text": [
      "   Gender  Contract InternetService  Churn\n",
      "0    Male         0             DSL      1\n",
      "1  Female         1     Fiber optic      0\n",
      "2  Female         2             DSL      0\n",
      "3    Male         0     Fiber optic      1\n"
     ]
    }
   ],
   "source": [
    "import numpy as np\n",
    "\n",
    "df['Churn'] = np.where(df['Contract'] == 0, 1, 0)\n",
    "\n",
    "# Verify the addition of the Churn column\n",
    "print(df.head())"
   ]
  },
  {
   "cell_type": "markdown",
   "id": "ad4dc6e4-c367-4979-b6be-f6be0b236c2a",
   "metadata": {},
   "source": [
    "1. Analyze Key Factors Contributing to Churn\n"
   ]
  },
  {
   "cell_type": "markdown",
   "id": "f0aa0b43-e939-4625-9c26-c2fc90a791a8",
   "metadata": {},
   "source": [
    "# 1.1 Summary Statistics"
   ]
  },
  {
   "cell_type": "code",
   "execution_count": 145,
   "id": "1b0ca22c-7ea7-4dc7-8960-b02e043baab3",
   "metadata": {},
   "outputs": [
    {
     "name": "stdout",
     "output_type": "stream",
     "text": [
      "      Contract                                          \n",
      "         count mean       std  min   25%  50%   75%  max\n",
      "Churn                                                   \n",
      "0          2.0  1.5  0.707107  1.0  1.25  1.5  1.75  2.0\n",
      "1          2.0  0.0  0.000000  0.0  0.00  0.0  0.00  0.0\n"
     ]
    }
   ],
   "source": [
    "# Summary statistics grouped by Churn\n",
    "print(df.groupby('Churn').describe())\n"
   ]
  },
  {
   "cell_type": "markdown",
   "id": "12bb1421-53ec-43cc-98b5-8116008abd3c",
   "metadata": {},
   "source": [
    "# 1.2 Correlation Matrix"
   ]
  },
  {
   "cell_type": "code",
   "execution_count": 149,
   "id": "7dd0f287-fde2-450b-962f-40c11821246a",
   "metadata": {},
   "outputs": [
    {
     "name": "stdout",
     "output_type": "stream",
     "text": [
      "Churn                          1.000000\n",
      "Gender_Male                    1.000000\n",
      "InternetService_Fiber optic    0.000000\n",
      "Contract                      -0.904534\n",
      "Name: Churn, dtype: float64\n"
     ]
    }
   ],
   "source": [
    "# Convert categorical variables to numeric if not already done\n",
    "df_encoded = pd.get_dummies(df, drop_first=True)\n",
    "\n",
    "# Compute the correlation matrix\n",
    "correlation_matrix = df_encoded.corr()\n",
    "\n",
    "# Display the correlation with the Churn column\n",
    "print(correlation_matrix['Churn'].sort_values(ascending=False))\n"
   ]
  },
  {
   "cell_type": "markdown",
   "id": "9f5a490c-d770-429a-bcfa-33a62de45d98",
   "metadata": {},
   "source": [
    "# 2. Visualization Techniques\n",
    "2.1 Histograms"
   ]
  },
  {
   "cell_type": "code",
   "execution_count": 163,
   "id": "4ff3a041-11dd-4ff4-8d2b-46ce5811674e",
   "metadata": {},
   "outputs": [
    {
     "name": "stdout",
     "output_type": "stream",
     "text": [
      "Index(['Gender', 'Contract', 'InternetService', 'Churn'], dtype='object')\n"
     ]
    }
   ],
   "source": [
    "# Print all column names in the DataFrame\n",
    "print(df.columns)\n"
   ]
  },
  {
   "cell_type": "code",
   "execution_count": 165,
   "id": "b9863ff7-c211-412a-84c4-0f2dacb3d6f3",
   "metadata": {},
   "outputs": [
    {
     "data": {
      "image/png": "[encoded data removed]",
      "text/plain": [
       "<Figure size 1000x600 with 1 Axes>"
      ]
     },
     "metadata": {},
     "output_type": "display_data"
    }
   ],
   "source": [
    "import seaborn as sns\n",
    "import matplotlib.pyplot as plt\n",
    "\n",
    "# Histogram-like plot for Gender based on Churn status\n",
    "plt.figure(figsize=(10, 6))\n",
    "sns.histplot(data=df, x='Gender', hue='Churn', multiple='stack', palette='viridis', discrete=True)\n",
    "plt.title('Distribution of Gender by Churn')\n",
    "plt.xlabel('Gender')\n",
    "plt.ylabel('Count')\n",
    "plt.show()\n"
   ]
  },
  {
   "cell_type": "markdown",
   "id": "98480b5b-cdc2-4580-97b8-4b063619cc31",
   "metadata": {},
   "source": [
    "# 2.2 Boxplot"
   ]
  },
  {
   "cell_type": "code",
   "execution_count": 171,
   "id": "4f7aa73d-5498-41e3-a545-3faf275868f4",
   "metadata": {},
   "outputs": [
    {
     "name": "stdout",
     "output_type": "stream",
     "text": [
      "   Contract  Contract_num\n",
      "0         0             0\n",
      "1         1             1\n",
      "2         2             2\n",
      "3         0             0\n"
     ]
    }
   ],
   "source": [
    "# Convert Contract to numerical codes\n",
    "df['Contract_num'] = df['Contract'].astype('category').cat.codes\n",
    "\n",
    "# Check the conversion\n",
    "print(df[['Contract', 'Contract_num']].head())\n"
   ]
  },
  {
   "cell_type": "code",
   "execution_count": 175,
   "id": "00550bb1-b4c6-469a-8a86-e2caea6e3dd3",
   "metadata": {},
   "outputs": [
    {
     "data": {
      "image/png": "[encoded data removed]",
      "text/plain": [
       "<Figure size 1000x600 with 1 Axes>"
      ]
     },
     "metadata": {},
     "output_type": "display_data"
    }
   ],
   "source": [
    "import seaborn as sns\n",
    "import matplotlib.pyplot as plt\n",
    "\n",
    "# Boxplot for Contract (numerical) based on Churn status\n",
    "plt.figure(figsize=(10, 6))\n",
    "sns.boxplot(x='Churn', y='Contract_num', data=df)\n",
    "plt.title('Contract Type (Numerical) by Churn')\n",
    "plt.xlabel('Churn')\n",
    "plt.ylabel('Contract Type (Numerical)')\n",
    "plt.show()\n"
   ]
  },
  {
   "cell_type": "markdown",
   "id": "4c7b0f48-c7a9-4341-8386-c44a847bac45",
   "metadata": {},
   "source": [
    "# 2.3 Heatmap"
   ]
  },
  {
   "cell_type": "code",
   "execution_count": 180,
   "id": "ded37d19-e583-4019-a9b8-b88bf464f1c5",
   "metadata": {},
   "outputs": [
    {
     "data": {
      "image/png": "[encoded data removed]",
      "text/plain": [
       "<Figure size 1200x1000 with 2 Axes>"
      ]
     },
     "metadata": {},
     "output_type": "display_data"
    }
   ],
   "source": [
    "# Heatmap of the correlation matrix\n",
    "plt.figure(figsize=(12, 10))\n",
    "sns.heatmap(correlation_matrix, annot=True, cmap='coolwarm', center=0)\n",
    "plt.title('Correlation Heatmap')\n",
    "plt.show()\n"
   ]
  },
  {
   "cell_type": "markdown",
   "id": "7a0f9318-344a-4279-b38e-466bcf483d73",
   "metadata": {},
   "source": [
    "# 3. Customer Segmentation\n",
    "3.1 Segment by Gender and Churn"
   ]
  },
  {
   "cell_type": "code",
   "execution_count": 183,
   "id": "d777f882-abfc-433c-a13d-0a79c9a82845",
   "metadata": {},
   "outputs": [
    {
     "data": {
      "image/png": "[encoded data removed]",
      "text/plain": [
       "<Figure size 640x480 with 1 Axes>"
      ]
     },
     "metadata": {},
     "output_type": "display_data"
    }
   ],
   "source": [
    "# Countplot of Churn by Gender\n",
    "sns.countplot(x='Gender', hue='Churn', data=df)\n",
    "plt.title('Churn by Gender')\n",
    "plt.show()\n"
   ]
  },
  {
   "cell_type": "markdown",
   "id": "16d6c253-e357-481d-a242-d90e6fdd23f7",
   "metadata": {},
   "source": [
    "# 3.2 Segment by Contract Type and Churn"
   ]
  },
  {
   "cell_type": "code",
   "execution_count": 186,
   "id": "3159aa42-599b-4dac-a967-62474719496a",
   "metadata": {},
   "outputs": [
    {
     "data": {
      "image/png": "[encoded data removed]",
      "text/plain": [
       "<Figure size 640x480 with 1 Axes>"
      ]
     },
     "metadata": {},
     "output_type": "display_data"
    }
   ],
   "source": [
    "# Countplot of Churn by Contract type\n",
    "sns.countplot(x='Contract', hue='Churn', data=df)\n",
    "plt.title('Churn by Contract Type')\n",
    "plt.show()\n"
   ]
  },
  {
   "cell_type": "markdown",
   "id": "b4257464-d789-47a9-9416-d8d72749ffc9",
   "metadata": {},
   "source": [
    "# 3.3 Segment by Internet Service and Churn"
   ]
  },
  {
   "cell_type": "code",
   "execution_count": 189,
   "id": "74a57c20-d54a-450a-94b2-756e2272edba",
   "metadata": {},
   "outputs": [
    {
     "data": {
      "image/png": "[encoded data removed]",
      "text/plain": [
       "<Figure size 640x480 with 1 Axes>"
      ]
     },
     "metadata": {},
     "output_type": "display_data"
    }
   ],
   "source": [
    "# Countplot of Churn by Internet Service\n",
    "sns.countplot(x='InternetService', hue='Churn', data=df)\n",
    "plt.title('Churn by Internet Service')\n",
    "plt.show()\n"
   ]
  },
  {
   "cell_type": "code",
   "execution_count": 191,
   "id": "9d83b8aa-52d7-40ef-9727-e65d0a95e191",
   "metadata": {},
   "outputs": [
    {
     "name": "stdout",
     "output_type": "stream",
     "text": [
      "Churn                          1.000000\n",
      "Gender_Male                    1.000000\n",
      "InternetService_Fiber optic    0.000000\n",
      "Contract                      -0.904534\n",
      "Contract_num                  -0.904534\n",
      "Name: Churn, dtype: float64\n"
     ]
    },
    {
     "data": {
      "image/png": "[encoded data removed]",
      "text/plain": [
       "<Figure size 1200x800 with 2 Axes>"
      ]
     },
     "metadata": {},
     "output_type": "display_data"
    }
   ],
   "source": [
    "import pandas as pd\n",
    "import seaborn as sns\n",
    "import matplotlib.pyplot as plt\n",
    "\n",
    "# Assuming df is already loaded and preprocessed\n",
    "# Convert categorical variables to numeric if not already done\n",
    "df_encoded = pd.get_dummies(df, drop_first=True)\n",
    "\n",
    "# Compute the correlation matrix\n",
    "correlation_matrix = df_encoded.corr()\n",
    "\n",
    "# Display the correlation with the Churn column\n",
    "print(correlation_matrix['Churn'].sort_values(ascending=False))\n",
    "\n",
    "# Plot the heatmap of the correlation matrix\n",
    "plt.figure(figsize=(12, 8))\n",
    "sns.heatmap(correlation_matrix, annot=True, cmap='coolwarm', vmin=-1, vmax=1, fmt='.2f')\n",
    "plt.title('Correlation Heatmap')\n",
    "plt.show()\n"
   ]
  },
  {
   "cell_type": "markdown",
   "id": "2f730f7e-548d-422e-bcc3-fa5a0af44fac",
   "metadata": {},
   "source": [
    "# Question 4 "
   ]
  },
  {
   "cell_type": "markdown",
   "id": "8dfeb69d-d963-44a1-a242-98e35cc6e83a",
   "metadata": {},
   "source": [
    "Model Development:\n",
    "Split the data into training and testing sets.\n",
    "Develop and compare different machine learning models, such as Logistic Regression, Random Forest, Gradient Boosting Machines, and Neural Networks, to predict churn.\n",
    "Evaluate models using metrics like accuracy, precision, recall, F1-score, and Area Under the Curve (AUC) to choose the best-performing model."
   ]
  },
  {
   "cell_type": "markdown",
   "id": "036583f2-35bd-4a86-90fb-45b1c922fcae",
   "metadata": {},
   "source": [
    "# 1. Data Preprocessing:"
   ]
  },
  {
   "cell_type": "code",
   "execution_count": 29,
   "id": "5b886391-15c0-44e9-a22d-fada0f9ada6f",
   "metadata": {},
   "outputs": [],
   "source": [
    "import pandas as pd\n",
    "import numpy as np\n",
    "import matplotlib.pyplot as plt\n",
    "import seaborn as sns\n",
    "from sklearn.model_selection import train_test_split\n",
    "from sklearn.preprocessing import StandardScaler, LabelEncoder\n",
    "from sklearn.ensemble import RandomForestClassifier\n",
    "from sklearn.metrics import classification_report, confusion_matrix, accuracy_score\n"
   ]
  },
  {
   "cell_type": "code",
   "execution_count": 25,
   "id": "5dd259f5-9d2c-40df-8f4f-a514623f3d92",
   "metadata": {},
   "outputs": [
    {
     "data": {
      "text/html": [
       "<div>\n",
       "<style scoped>\n",
       "    .dataframe tbody tr th:only-of-type {\n",
       "        vertical-align: middle;\n",
       "    }\n",
       "\n",
       "    .dataframe tbody tr th {\n",
       "        vertical-align: top;\n",
       "    }\n",
       "\n",
       "    .dataframe thead th {\n",
       "        text-align: right;\n",
       "    }\n",
       "</style>\n",
       "<table border=\"1\" class=\"dataframe\">\n",
       "  <thead>\n",
       "    <tr style=\"text-align: right;\">\n",
       "      <th></th>\n",
       "      <th>customerID</th>\n",
       "      <th>gender</th>\n",
       "      <th>SeniorCitizen</th>\n",
       "      <th>Partner</th>\n",
       "      <th>Dependents</th>\n",
       "      <th>tenure</th>\n",
       "      <th>PhoneService</th>\n",
       "      <th>MultipleLines</th>\n",
       "      <th>InternetService</th>\n",
       "      <th>OnlineSecurity</th>\n",
       "      <th>...</th>\n",
       "      <th>DeviceProtection</th>\n",
       "      <th>TechSupport</th>\n",
       "      <th>StreamingTV</th>\n",
       "      <th>StreamingMovies</th>\n",
       "      <th>Contract</th>\n",
       "      <th>PaperlessBilling</th>\n",
       "      <th>PaymentMethod</th>\n",
       "      <th>MonthlyCharges</th>\n",
       "      <th>TotalCharges</th>\n",
       "      <th>Churn</th>\n",
       "    </tr>\n",
       "  </thead>\n",
       "  <tbody>\n",
       "    <tr>\n",
       "      <th>0</th>\n",
       "      <td>7590-VHVEG</td>\n",
       "      <td>Female</td>\n",
       "      <td>0</td>\n",
       "      <td>Yes</td>\n",
       "      <td>No</td>\n",
       "      <td>1</td>\n",
       "      <td>No</td>\n",
       "      <td>No phone service</td>\n",
       "      <td>DSL</td>\n",
       "      <td>No</td>\n",
       "      <td>...</td>\n",
       "      <td>No</td>\n",
       "      <td>No</td>\n",
       "      <td>No</td>\n",
       "      <td>No</td>\n",
       "      <td>Month-to-month</td>\n",
       "      <td>Yes</td>\n",
       "      <td>Electronic check</td>\n",
       "      <td>29.85</td>\n",
       "      <td>29.85</td>\n",
       "      <td>No</td>\n",
       "    </tr>\n",
       "    <tr>\n",
       "      <th>1</th>\n",
       "      <td>5575-GNVDE</td>\n",
       "      <td>Male</td>\n",
       "      <td>0</td>\n",
       "      <td>No</td>\n",
       "      <td>No</td>\n",
       "      <td>34</td>\n",
       "      <td>Yes</td>\n",
       "      <td>No</td>\n",
       "      <td>DSL</td>\n",
       "      <td>Yes</td>\n",
       "      <td>...</td>\n",
       "      <td>Yes</td>\n",
       "      <td>No</td>\n",
       "      <td>No</td>\n",
       "      <td>No</td>\n",
       "      <td>One year</td>\n",
       "      <td>No</td>\n",
       "      <td>Mailed check</td>\n",
       "      <td>56.95</td>\n",
       "      <td>1889.5</td>\n",
       "      <td>No</td>\n",
       "    </tr>\n",
       "    <tr>\n",
       "      <th>2</th>\n",
       "      <td>3668-QPYBK</td>\n",
       "      <td>Male</td>\n",
       "      <td>0</td>\n",
       "      <td>No</td>\n",
       "      <td>No</td>\n",
       "      <td>2</td>\n",
       "      <td>Yes</td>\n",
       "      <td>No</td>\n",
       "      <td>DSL</td>\n",
       "      <td>Yes</td>\n",
       "      <td>...</td>\n",
       "      <td>No</td>\n",
       "      <td>No</td>\n",
       "      <td>No</td>\n",
       "      <td>No</td>\n",
       "      <td>Month-to-month</td>\n",
       "      <td>Yes</td>\n",
       "      <td>Mailed check</td>\n",
       "      <td>53.85</td>\n",
       "      <td>108.15</td>\n",
       "      <td>Yes</td>\n",
       "    </tr>\n",
       "    <tr>\n",
       "      <th>3</th>\n",
       "      <td>7795-CFOCW</td>\n",
       "      <td>Male</td>\n",
       "      <td>0</td>\n",
       "      <td>No</td>\n",
       "      <td>No</td>\n",
       "      <td>45</td>\n",
       "      <td>No</td>\n",
       "      <td>No phone service</td>\n",
       "      <td>DSL</td>\n",
       "      <td>Yes</td>\n",
       "      <td>...</td>\n",
       "      <td>Yes</td>\n",
       "      <td>Yes</td>\n",
       "      <td>No</td>\n",
       "      <td>No</td>\n",
       "      <td>One year</td>\n",
       "      <td>No</td>\n",
       "      <td>Bank transfer (automatic)</td>\n",
       "      <td>42.30</td>\n",
       "      <td>1840.75</td>\n",
       "      <td>No</td>\n",
       "    </tr>\n",
       "    <tr>\n",
       "      <th>4</th>\n",
       "      <td>9237-HQITU</td>\n",
       "      <td>Female</td>\n",
       "      <td>0</td>\n",
       "      <td>No</td>\n",
       "      <td>No</td>\n",
       "      <td>2</td>\n",
       "      <td>Yes</td>\n",
       "      <td>No</td>\n",
       "      <td>Fiber optic</td>\n",
       "      <td>No</td>\n",
       "      <td>...</td>\n",
       "      <td>No</td>\n",
       "      <td>No</td>\n",
       "      <td>No</td>\n",
       "      <td>No</td>\n",
       "      <td>Month-to-month</td>\n",
       "      <td>Yes</td>\n",
       "      <td>Electronic check</td>\n",
       "      <td>70.70</td>\n",
       "      <td>151.65</td>\n",
       "      <td>Yes</td>\n",
       "    </tr>\n",
       "  </tbody>\n",
       "</table>\n",
       "<p>5 rows × 21 columns</p>\n",
       "</div>"
      ],
      "text/plain": [
       "   customerID  gender  SeniorCitizen Partner Dependents  tenure PhoneService  \\\n",
       "0  7590-VHVEG  Female              0     Yes         No       1           No   \n",
       "1  5575-GNVDE    Male              0      No         No      34          Yes   \n",
       "2  3668-QPYBK    Male              0      No         No       2          Yes   \n",
       "3  7795-CFOCW    Male              0      No         No      45           No   \n",
       "4  9237-HQITU  Female              0      No         No       2          Yes   \n",
       "\n",
       "      MultipleLines InternetService OnlineSecurity  ... DeviceProtection  \\\n",
       "0  No phone service             DSL             No  ...               No   \n",
       "1                No             DSL            Yes  ...              Yes   \n",
       "2                No             DSL            Yes  ...               No   \n",
       "3  No phone service             DSL            Yes  ...              Yes   \n",
       "4                No     Fiber optic             No  ...               No   \n",
       "\n",
       "  TechSupport StreamingTV StreamingMovies        Contract PaperlessBilling  \\\n",
       "0          No          No              No  Month-to-month              Yes   \n",
       "1          No          No              No        One year               No   \n",
       "2          No          No              No  Month-to-month              Yes   \n",
       "3         Yes          No              No        One year               No   \n",
       "4          No          No              No  Month-to-month              Yes   \n",
       "\n",
       "               PaymentMethod MonthlyCharges  TotalCharges Churn  \n",
       "0           Electronic check          29.85         29.85    No  \n",
       "1               Mailed check          56.95        1889.5    No  \n",
       "2               Mailed check          53.85        108.15   Yes  \n",
       "3  Bank transfer (automatic)          42.30       1840.75    No  \n",
       "4           Electronic check          70.70        151.65   Yes  \n",
       "\n",
       "[5 rows x 21 columns]"
      ]
     },
     "execution_count": 25,
     "metadata": {},
     "output_type": "execute_result"
    }
   ],
   "source": [
    "import pandas as pd\n",
    "\n",
    "# Load the dataset\n",
    "file_path = r\"C:\\Users\\octav\\Downloads\\Lux Capstone final project\\WA_Fn-UseC_-Telco-Customer-Churn.csv\"\n",
    "df = pd.read_csv(file_path)\n",
    "\n",
    "# Display the first few rows of the dataset\n",
    "df.head()\n"
   ]
  },
  {
   "cell_type": "markdown",
   "id": "31aeb6cd-15d7-4dc1-be0d-7c65f96fd56c",
   "metadata": {},
   "source": [
    "# 1. Split the Data into Training and Testing Sets"
   ]
  },
  {
   "cell_type": "code",
   "execution_count": 34,
   "id": "1c525e62-fef5-4fa3-ac4c-2e540394a620",
   "metadata": {},
   "outputs": [
    {
     "name": "stdout",
     "output_type": "stream",
     "text": [
      "(5634, 19) (1409, 19) (5634,) (1409,)\n"
     ]
    }
   ],
   "source": [
    "from sklearn.model_selection import train_test_split\n",
    "\n",
    "# Drop 'customerID' and 'Churn' to create feature set (X)\n",
    "X = df.drop(['customerID', 'Churn'], axis=1)\n",
    "\n",
    "# 'Churn' is the target variable\n",
    "y = df['Churn']\n",
    "\n",
    "# Split the data: 80% training, 20% testing\n",
    "X_train, X_test, y_train, y_test = train_test_split(X, y, test_size=0.2, random_state=42)\n",
    "\n",
    "# Check the shapes of the resulting data\n",
    "print(X_train.shape, X_test.shape, y_train.shape, y_test.shape)\n"
   ]
  },
  {
   "cell_type": "markdown",
   "id": "3df7f434-6a80-4c21-b4dd-b91af7f9d996",
   "metadata": {},
   "source": [
    "# 2. Develop and Compare Different Machine Learning Models"
   ]
  },
  {
   "cell_type": "markdown",
   "id": "f8695ffa-fdee-48f1-a417-6e7fc1562421",
   "metadata": {},
   "source": [
    "Handling Categorical Variables"
   ]
  },
  {
   "cell_type": "markdown",
   "id": "08e9b528-09fa-49f9-b976-a4ea40060a86",
   "metadata": {},
   "source": [
    "# 1. One-Hot Encode Categorical Variables"
   ]
  },
  {
   "cell_type": "code",
   "execution_count": 44,
   "id": "637bb42c-ab1e-448a-83d2-b3a0e888e9c9",
   "metadata": {},
   "outputs": [
    {
     "name": "stdout",
     "output_type": "stream",
     "text": [
      "(5634, 6559) (1409, 6559) (5634,) (1409,)\n"
     ]
    }
   ],
   "source": [
    "import pandas as pd\n",
    "\n",
    "# Drop 'customerID' and 'Churn' to create feature set (X)\n",
    "X = df.drop(['customerID', 'Churn'], axis=1)\n",
    "\n",
    "# One-hot encode categorical variables\n",
    "X = pd.get_dummies(X, drop_first=True)\n",
    "\n",
    "# 'Churn' is the target variable\n",
    "y = df['Churn']\n",
    "\n",
    "# Split the data: 80% training, 20% testing\n",
    "from sklearn.model_selection import train_test_split\n",
    "\n",
    "X_train, X_test, y_train, y_test = train_test_split(X, y, test_size=0.2, random_state=42)\n",
    "\n",
    "print(X_train.shape, X_test.shape, y_train.shape, y_test.shape)\n"
   ]
  },
  {
   "cell_type": "markdown",
   "id": "c91ddec2-db92-48fb-93df-45cf93b2f51b",
   "metadata": {},
   "source": [
    "Logistic Regression"
   ]
  },
  {
   "cell_type": "code",
   "execution_count": 47,
   "id": "761e9d65-4cfd-4135-bfbe-a2cf7ea8f2b6",
   "metadata": {},
   "outputs": [
    {
     "name": "stdout",
     "output_type": "stream",
     "text": [
      "Logistic Regression Accuracy: 0.8247\n"
     ]
    }
   ],
   "source": [
    "from sklearn.linear_model import LogisticRegression\n",
    "from sklearn.metrics import accuracy_score\n",
    "\n",
    "log_model = LogisticRegression(max_iter=1000)\n",
    "log_model.fit(X_train, y_train)\n",
    "y_pred_log = log_model.predict(X_test)\n",
    "\n",
    "print(f\"Logistic Regression Accuracy: {accuracy_score(y_test, y_pred_log):.4f}\")\n"
   ]
  },
  {
   "cell_type": "markdown",
   "id": "0e72d2b0-5e98-4246-b796-155079ccf3b6",
   "metadata": {},
   "source": [
    "Random Forest"
   ]
  },
  {
   "cell_type": "code",
   "execution_count": 50,
   "id": "505df3c4-2a5a-49cc-a7cd-336ea04d5a83",
   "metadata": {},
   "outputs": [
    {
     "name": "stdout",
     "output_type": "stream",
     "text": [
      "Random Forest Accuracy: 0.7977\n"
     ]
    }
   ],
   "source": [
    "from sklearn.ensemble import RandomForestClassifier\n",
    "\n",
    "rf_model = RandomForestClassifier(n_estimators=100, random_state=42)\n",
    "rf_model.fit(X_train, y_train)\n",
    "y_pred_rf = rf_model.predict(X_test)\n",
    "\n",
    "print(f\"Random Forest Accuracy: {accuracy_score(y_test, y_pred_rf):.4f}\")\n"
   ]
  },
  {
   "cell_type": "markdown",
   "id": "fce5d644-e651-4bcd-bf82-c898d78de943",
   "metadata": {},
   "source": [
    "Gradient Boosting Machine (GBM)"
   ]
  },
  {
   "cell_type": "code",
   "execution_count": 53,
   "id": "14b41960-b850-4847-9ad1-f5f44e6ae7da",
   "metadata": {},
   "outputs": [
    {
     "name": "stdout",
     "output_type": "stream",
     "text": [
      "GBM Accuracy: 0.8162\n"
     ]
    }
   ],
   "source": [
    "from sklearn.ensemble import GradientBoostingClassifier\n",
    "\n",
    "gbm_model = GradientBoostingClassifier(random_state=42)\n",
    "gbm_model.fit(X_train, y_train)\n",
    "y_pred_gbm = gbm_model.predict(X_test)\n",
    "\n",
    "print(f\"GBM Accuracy: {accuracy_score(y_test, y_pred_gbm):.4f}\")\n"
   ]
  },
  {
   "cell_type": "markdown",
   "id": "276348a8-bebb-460d-b875-a40edf6afaea",
   "metadata": {},
   "source": [
    "Neural Network"
   ]
  },
  {
   "cell_type": "code",
   "execution_count": null,
   "id": "982136f6-a3c8-473a-ac0a-b5eef170196f",
   "metadata": {},
   "outputs": [],
   "source": [
    "from sklearn.neural_network import MLPClassifier\n",
    "from sklearn.metrics import accuracy_score, precision_score, recall_score, f1_score, roc_auc_score\n",
    "\n",
    "# Initialize and train Neural Network model\n",
    "nn_model = MLPClassifier(hidden_layer_sizes=(64, 32), activation='relu', solver='adam', max_iter=300, random_state=42)\n",
    "nn_model.fit(X_train, y_train)\n",
    "\n",
    "# Predict using the Neural Network model\n",
    "y_pred_nn = nn_model.predict(X_test)\n",
    "\n",
    "# Evaluate the Neural Network model\n",
    "nn_accuracy = accuracy_score(y_test, y_pred_nn)\n",
    "nn_precision = precision_score(y_test, y_pred_nn)\n",
    "nn_recall = recall_score(y_test, y_pred_nn)\n",
    "nn_f1 = f1_score(y_test, y_pred_nn)\n",
    "nn_auc = roc_auc_score(y_test, nn_model.predict_proba(X_test)[:, 1])\n",
    "\n",
    "print(f\"Neural Network Accuracy: {nn_accuracy:.4f}\")\n",
    "print(f\"Neural Network Precision: {nn_precision:.4f}\")\n",
    "print(f\"Neural Network Recall: {nn_recall:.4f}\")\n",
    "print(f\"Neural Network F1-Score: {nn_f1:.4f}\")\n",
    "print(f\"Neural Network AUC: {nn_auc:.4f}\")\n"
   ]
  },
  {
   "cell_type": "code",
   "execution_count": null,
   "id": "3f6406e4-796e-42af-a184-39c04057801f",
   "metadata": {},
   "outputs": [],
   "source": []
  },
  {
   "cell_type": "code",
   "execution_count": null,
   "id": "cbd6c655-e331-4d42-bf7b-ec977326ebfe",
   "metadata": {},
   "outputs": [],
   "source": [
    "from sklearn.metrics import precision_score, recall_score, f1_score, roc_auc_score\n",
    "\n",
    "# Logistic Regression metrics\n",
    "print(f\"Logistic Regression Precision: {precision_score(y_test, y_pred_log):.4f}\")\n",
    "print(f\"Logistic Regression Recall: {recall_score(y_test, y_pred_log):.4f}\")\n",
    "print(f\"Logistic Regression F1-Score: {f1_score(y_test, y_pred_log):.4f}\")\n",
    "print(f\"Logistic Regression AUC: {roc_auc_score(y_test, log_model.predict_proba(X_test)[:, 1]):.4f}\")\n",
    "\n",
    "# Random Forest metrics\n",
    "print(f\"Random Forest Precision: {precision_score(y_test, y_pred_rf):.4f}\")\n",
    "print(f\"Random Forest Recall: {recall_score(y_test, y_pred_rf):.4f}\")\n",
    "print(f\"Random Forest F1-Score: {f1_score(y_test, y_pred_rf):.4f}\")\n",
    "print(f\"Random Forest AUC: {roc_auc_score(y_test, rf_model.predict_proba(X_test)[:, 1]):.4f}\")\n",
    "\n",
    "# Gradient Boosting metrics\n",
    "print(f\"GBM Precision: {precision_score(y_test, y_pred_gbm):.4f}\")\n",
    "print(f\"GBM Recall: {recall_score(y_test, y_pred_gbm):.4f}\")\n",
    "print(f\"GBM F1-Score: {f1_score(y_test, y_pred_gbm):.4f}\")\n",
    "print(f\"GBM AUC: {roc_auc_score(y_test, gbm_model.predict_proba(X_test)[:, 1]):.4f}\")\n",
    "\n",
    "# Neural Network metrics\n",
    "nn_pred_prob = nn_model.predict_proba(X_test)[:, 1]\n",
    "nn_pred = (nn_pred_prob > 0.5).astype(\"int32\")\n",
    "print(f\"Neural Network Precision: {precision_score(y_test, nn_pred):.4f}\")\n",
    "print(f\"Neural Network Recall: {recall_score(y_test, nn_pred):.4f}\")\n",
    "print(f\"Neural Network F1-Score: {f1_score(y_test, nn_pred):.4f}\")\n",
    "print(f\"Neural Network AUC: {roc_auc_score(y_test, nn_pred_prob):.4f}\")\n"
   ]
  },
  {
   "cell_type": "code",
   "execution_count": null,
   "id": "bf4a29cd-1465-47ba-a699-b7281c6fba6a",
   "metadata": {},
   "outputs": [],
   "source": []
  },
  {
   "cell_type": "markdown",
   "id": "8032ba15-4951-4444-a7cc-666610a4e7c3",
   "metadata": {},
   "source": [
    "# Question 5 "
   ]
  },
  {
   "cell_type": "markdown",
   "id": "d3e2d3d6-c14b-405f-88fc-46c495663c7e",
   "metadata": {},
   "source": [
    "Interpretability and Feature Importance:\n",
    "Use techniques like SHAP (SHapley Additive exPlanations) or LIME (Local Interpretable Model-agnostic Explanations) to interpret the model’s predictions.\n",
    "Identify the most influential features driving churn, which can inform targeted retention strategies."
   ]
  },
  {
   "cell_type": "code",
   "execution_count": 71,
   "id": "012d1bd8-909d-47c1-a3a9-8646404055ac",
   "metadata": {},
   "outputs": [
    {
     "name": "stdout",
     "output_type": "stream",
     "text": [
      "Defaulting to user installation because normal site-packages is not writeable\n",
      "Collecting shap\n",
      "  Downloading shap-0.46.0-cp312-cp312-win_amd64.whl.metadata (25 kB)\n",
      "Requirement already satisfied: numpy in c:\\programdata\\anaconda3\\lib\\site-packages (from shap) (1.26.4)\n",
      "Requirement already satisfied: scipy in c:\\programdata\\anaconda3\\lib\\site-packages (from shap) (1.13.1)\n",
      "Requirement already satisfied: scikit-learn in c:\\programdata\\anaconda3\\lib\\site-packages (from shap) (1.4.2)\n",
      "Requirement already satisfied: pandas in c:\\programdata\\anaconda3\\lib\\site-packages (from shap) (2.2.2)\n",
      "Requirement already satisfied: tqdm>=4.27.0 in c:\\programdata\\anaconda3\\lib\\site-packages (from shap) (4.66.4)\n",
      "Requirement already satisfied: packaging>20.9 in c:\\programdata\\anaconda3\\lib\\site-packages (from shap) (23.2)\n",
      "Collecting slicer==0.0.8 (from shap)\n",
      "  Downloading slicer-0.0.8-py3-none-any.whl.metadata (4.0 kB)\n",
      "Requirement already satisfied: numba in c:\\programdata\\anaconda3\\lib\\site-packages (from shap) (0.59.1)\n",
      "Requirement already satisfied: cloudpickle in c:\\programdata\\anaconda3\\lib\\site-packages (from shap) (2.2.1)\n",
      "Requirement already satisfied: colorama in c:\\programdata\\anaconda3\\lib\\site-packages (from tqdm>=4.27.0->shap) (0.4.6)\n",
      "Requirement already satisfied: llvmlite<0.43,>=0.42.0dev0 in c:\\programdata\\anaconda3\\lib\\site-packages (from numba->shap) (0.42.0)\n",
      "Requirement already satisfied: python-dateutil>=2.8.2 in c:\\programdata\\anaconda3\\lib\\site-packages (from pandas->shap) (2.9.0.post0)\n",
      "Requirement already satisfied: pytz>=2020.1 in c:\\programdata\\anaconda3\\lib\\site-packages (from pandas->shap) (2024.1)\n",
      "Requirement already satisfied: tzdata>=2022.7 in c:\\programdata\\anaconda3\\lib\\site-packages (from pandas->shap) (2023.3)\n",
      "Requirement already satisfied: joblib>=1.2.0 in c:\\programdata\\anaconda3\\lib\\site-packages (from scikit-learn->shap) (1.4.2)\n",
      "Requirement already satisfied: threadpoolctl>=2.0.0 in c:\\programdata\\anaconda3\\lib\\site-packages (from scikit-learn->shap) (2.2.0)\n",
      "Requirement already satisfied: six>=1.5 in c:\\programdata\\anaconda3\\lib\\site-packages (from python-dateutil>=2.8.2->pandas->shap) (1.16.0)\n",
      "Downloading shap-0.46.0-cp312-cp312-win_amd64.whl (456 kB)\n",
      "   ---------------------------------------- 0.0/456.2 kB ? eta -:--:--\n",
      "   ----- ---------------------------------- 61.4/456.2 kB 1.6 MB/s eta 0:00:01\n",
      "   ---------------- ----------------------- 184.3/456.2 kB 2.2 MB/s eta 0:00:01\n",
      "   -------------------------- ------------- 307.2/456.2 kB 2.4 MB/s eta 0:00:01\n",
      "   -------------------------------- ------- 368.6/456.2 kB 2.1 MB/s eta 0:00:01\n",
      "   ---------------------------------------  450.6/456.2 kB 2.0 MB/s eta 0:00:01\n",
      "   ---------------------------------------  450.6/456.2 kB 2.0 MB/s eta 0:00:01\n",
      "   ---------------------------------------  450.6/456.2 kB 2.0 MB/s eta 0:00:01\n",
      "   ---------------------------------------- 456.2/456.2 kB 1.3 MB/s eta 0:00:00\n",
      "Downloading slicer-0.0.8-py3-none-any.whl (15 kB)\n",
      "Installing collected packages: slicer, shap\n",
      "Successfully installed shap-0.46.0 slicer-0.0.8\n",
      "Note: you may need to restart the kernel to use updated packages.\n"
     ]
    }
   ],
   "source": [
    "pip install shap\n"
   ]
  },
  {
   "cell_type": "markdown",
   "id": "91c7ca5e-5332-4811-8887-6376f90365fc",
   "metadata": {},
   "source": [
    "Use SHAP's sample Method"
   ]
  },
  {
   "cell_type": "code",
   "execution_count": null,
   "id": "8745a893-8eba-440d-8cc7-ce227b5a9ce2",
   "metadata": {},
   "outputs": [],
   "source": [
    "import shap\n",
    "\n",
    "# Define the number of samples you want to use\n",
    "num_samples = 1000\n",
    "\n",
    "# Sample the background data\n",
    "X_train_sampled = shap.sample(X_train, num_samples)\n",
    "\n",
    "# Initialize SHAP explainer with sampled background data\n",
    "explainer_rf = shap.TreeExplainer(rf_model, X_train_sampled)\n",
    "shap_values_rf = explainer_rf.shap_values(X_test)\n",
    "\n",
    "# Plot SHAP values\n",
    "shap.summary_plot(shap_values_rf, X_test, feature_names=X_test.columns)\n"
   ]
  },
  {
   "cell_type": "markdown",
   "id": "2afc18a4-bf75-4006-b173-90298ec2462a",
   "metadata": {},
   "source": [
    "Use SHAP's kmeans Method"
   ]
  },
  {
   "cell_type": "code",
   "execution_count": null,
   "id": "b1ddfdc5-5889-4f74-88f4-6a5fc4f84ee6",
   "metadata": {},
   "outputs": [],
   "source": [
    "import shap\n",
    "\n",
    "# Define the number of clusters (centers) you want to use\n",
    "num_clusters = 100\n",
    "\n",
    "# Cluster the background data\n",
    "X_train_kmeans = shap.kmeans(X_train, num_clusters)\n",
    "\n",
    "# Initialize SHAP explainer with k-means summarized background data\n",
    "explainer_rf = shap.TreeExplainer(rf_model, X_train_kmeans)\n",
    "shap_values_rf = explainer_rf.shap_values(X_test)\n",
    "\n",
    "# Plot SHAP values\n",
    "shap.summary_plot(shap_values_rf, X_test, feature_names=X_test.columns)\n"
   ]
  },
  {
   "cell_type": "code",
   "execution_count": null,
   "id": "ae628b8d-0822-4751-8e45-8b77d61cb2f6",
   "metadata": {},
   "outputs": [],
   "source": []
  },
  {
   "cell_type": "code",
   "execution_count": null,
   "id": "1a8fba33-338a-4b65-9a6f-6317201c3c96",
   "metadata": {},
   "outputs": [],
   "source": [
    "import shap\n",
    "\n",
    "# Define the number of samples or clusters\n",
    "num_samples = 1000\n",
    "num_clusters = 100\n",
    "\n",
    "# Sample the background data or use k-means\n",
    "X_train_sampled = shap.sample(X_train, num_samples)\n",
    "# Alternatively: X_train_kmeans = shap.kmeans(X_train, num_clusters)\n",
    "\n",
    "# Initialize SHAP explainer\n",
    "explainer_rf = shap.TreeExplainer(rf_model, X_train_sampled)\n",
    "# Alternatively: explainer_rf = shap.TreeExplainer(rf_model, X_train_kmeans)\n",
    "\n",
    "# Compute SHAP values\n",
    "shap_values_rf = explainer_rf.shap_values(X_test)\n",
    "\n",
    "# Plot SHAP values\n",
    "shap.summary_plot(shap_values_rf, X_test, feature_names=X_test.columns)\n"
   ]
  },
  {
   "cell_type": "code",
   "execution_count": null,
   "id": "08753050-89e6-4f75-8127-bc54079b4efc",
   "metadata": {},
   "outputs": [],
   "source": [
    "Complete Code for SHAP and LIME"
   ]
  },
  {
   "cell_type": "code",
   "execution_count": null,
   "id": "fcdfc361-e0a0-428b-9c55-94655fbcefa3",
   "metadata": {},
   "outputs": [],
   "source": [
    "import pandas as pd\n",
    "import numpy as np\n",
    "import shap\n",
    "from sklearn.ensemble import RandomForestClassifier\n",
    "from sklearn.model_selection import train_test_split\n",
    "from sklearn.preprocessing import LabelEncoder\n",
    "\n",
    "# Load your dataset\n",
    "file_path = 'C:\\\\Users\\\\octav\\\\Downloads\\\\Lux Capstone final project\\\\your_dataset.csv'\n",
    "df = pd.read_csv(file_path)\n",
    "\n",
    "# Preprocessing\n",
    "label_encoders = {}\n",
    "for column in df.select_dtypes(include=['object']).columns:\n",
    "    le = LabelEncoder()\n",
    "    df[column] = le.fit_transform(df[column])\n",
    "    label_encoders[column] = le\n",
    "\n",
    "# Define features and target\n",
    "X = df.drop('Churn', axis=1)\n",
    "y = df['Churn']\n",
    "\n",
    "# Split data\n",
    "X_train, X_test, y_train, y_test = train_test_split(X, y, test_size=0.2, random_state=42)\n",
    "\n",
    "# Train a Random Forest model\n",
    "rf_model = RandomForestClassifier(random_state=42)\n",
    "rf_model.fit(X_train, y_train)\n",
    "\n",
    "# Summarize the background data using K-Means\n",
    "num_clusters = 100\n",
    "X_train_kmeans = shap.kmeans(X_train, num_clusters)\n",
    "\n",
    "# Initialize SHAP explainer\n",
    "explainer_rf = shap.TreeExplainer(rf_model, X_train_kmeans)\n",
    "shap_values_rf = explainer_rf.shap_values(X_test)\n",
    "\n",
    "# Plot SHAP summary plot\n",
    "shap.summary_plot(shap_values_rf, X_test, feature_names=X_test.columns)\n",
    "\n",
    "# Compute feature importance\n",
    "feature_importance = np.abs(shap_values_rf).mean(axis=0)\n",
    "feature_importance_df = pd.DataFrame({\n",
    "    'Feature': X_test.columns,\n",
    "    'Mean Abs SHAP Value': feature_importance\n",
    "}).sort_values(by='Mean Abs SHAP Value', ascending=False)\n",
    "\n",
    "print(\"Feature Importance (SHAP):\")\n",
    "print(feature_importance_df)\n"
   ]
  },
  {
   "cell_type": "code",
   "execution_count": null,
   "id": "7d697dc1-9e9b-4180-9fc1-e6cb0f1e43a3",
   "metadata": {},
   "outputs": [],
   "source": []
  },
  {
   "cell_type": "code",
   "execution_count": null,
   "id": "281ab775-0f02-408f-9d30-0d9d412ae3b1",
   "metadata": {},
   "outputs": [],
   "source": [
    "2. LIME for Interpreting Individual Predictions"
   ]
  },
  {
   "cell_type": "code",
   "execution_count": null,
   "id": "3f53381e-8924-4cef-bcbc-ca9e60a35b92",
   "metadata": {},
   "outputs": [],
   "source": [
    "from lime.lime_tabular import LimeTabularExplainer\n",
    "\n",
    "# Initialize LIME explainer\n",
    "lime_explainer = LimeTabularExplainer(\n",
    "    training_data=X_train.values,\n",
    "    feature_names=X_train.columns,\n",
    "    class_names=['Not Churn', 'Churn'],\n",
    "    mode='classification'\n",
    ")\n",
    "\n",
    "# Explain a single prediction\n",
    "idx = 0  # Index of the data point you want to explain\n",
    "exp = lime_explainer.explain_instance(X_test.values[idx], rf_model.predict_proba, num_features=10)\n",
    "exp.show_in_notebook(show_table=True, show_all=False)\n"
   ]
  },
  {
   "cell_type": "code",
   "execution_count": null,
   "id": "2d4d3e6e-81d6-4033-bfe2-a0c89a0e8e6b",
   "metadata": {},
   "outputs": [],
   "source": []
  },
  {
   "cell_type": "markdown",
   "id": "a4763fe0-a205-4e6b-9e3e-328d68ba931f",
   "metadata": {},
   "source": [
    "# Questiin 6"
   ]
  },
  {
   "cell_type": "markdown",
   "id": "d0eb72b4-dcd9-406e-aab6-ab0d5a33ee81",
   "metadata": {},
   "source": [
    "# 1. Identify Key Features Influencing Churn"
   ]
  },
  {
   "cell_type": "markdown",
   "id": "5346b35c-7cd3-48b4-aadf-908efab09f84",
   "metadata": {},
   "source": [
    "explain here "
   ]
  },
  {
   "cell_type": "markdown",
   "id": "c62ba3e9-85a3-4a07-b722-1be05d1601fb",
   "metadata": {},
   "source": [
    "#  2. Propose Actionable Retention Strategies\n",
    "Here are some actionable strategies based on common features influencing churn:\n",
    "\n",
    "Targeted Marketing Campaigns:\n",
    "\n",
    "High Monthly Charges: Offer discounts or bundle deals to customers with high monthly charges to make the service more affordable.\n",
    "Short Tenure: Create retention campaigns for newer customers to enhance their experience and increase their likelihood of staying longer.\n",
    "Personalized Offers:\n",
    "\n",
    "Contract Type: Provide personalized contract renewal options or flexible plans based on the customer’s current contract and usage patterns.\n",
    "Service Add-ons: For customers lacking add-ons like TechSupport or OnlineSecurity, offer promotions or free trials to increase engagement.\n",
    "Improved Customer Service:\n",
    "\n",
    "High Interaction Customers: Improve the quality of service for customers who frequently interact with customer service. Offer premium support or dedicated account managers.\n",
    "Feedback Integration: Collect feedback from high-risk customers and use it to improve service offerings and address common pain points."
   ]
  },
  {
   "cell_type": "markdown",
   "id": "92da76dc-9331-4f26-98e4-1f1024b22b76",
   "metadata": {},
   "source": [
    "# 3. Simulate the Impact of These Strategies"
   ]
  },
  {
   "cell_type": "markdown",
   "id": "f88125af-c03b-4871-a2c2-1fddcacf1abe",
   "metadata": {},
   "source": [
    "Step 1: Define Strategies and Apply to Data"
   ]
  },
  {
   "cell_type": "code",
   "execution_count": null,
   "id": "2ff00ef4-70b1-4022-bb80-604498e1b4a8",
   "metadata": {},
   "outputs": [],
   "source": [
    "import numpy as np\n",
    "\n",
    "# Example strategy impact simulation\n",
    "def apply_strategy(df):\n",
    "    # Discount for high MonthlyCharges\n",
    "    df.loc[df['MonthlyCharges'] > 70, 'Churn'] = 0  # Assuming a discount reduces churn\n",
    "\n",
    "    # Retention offer for short Tenure\n",
    "    df.loc[df['Tenure'] < 6, 'Churn'] = 0  # Assuming a retention offer reduces churn\n",
    "\n",
    "    return df\n",
    "\n",
    "# Apply strategy to the dataset\n",
    "df_simulated = apply_strategy(df.copy())\n",
    "\n",
    "# Split simulated data\n",
    "X_simulated = df_simulated.drop('Churn', axis=1)\n",
    "y_simulated = df_simulated['Churn']\n",
    "X_train_sim, X_test_sim, y_train_sim, y_test_sim = train_test_split(X_simulated, y_simulated, test_size=0.2, random_state=42)\n",
    "\n",
    "# Retrain model with simulated data\n",
    "rf_model_sim = RandomForestClassifier(random_state=42)\n",
    "rf_model_sim.fit(X_train_sim, y_train_sim)\n"
   ]
  },
  {
   "cell_type": "code",
   "execution_count": null,
   "id": "6b72ae15-da0e-406e-a848-2b9480e1d6bb",
   "metadata": {},
   "outputs": [],
   "source": []
  },
  {
   "cell_type": "markdown",
   "id": "046604a9-781f-4cb9-8152-d979d70111f7",
   "metadata": {},
   "source": [
    "#  Step 2: Evaluate the Impact"
   ]
  },
  {
   "cell_type": "code",
   "execution_count": null,
   "id": "6ed1d367-403b-4dde-aa75-6db5d4b969a3",
   "metadata": {},
   "outputs": [],
   "source": [
    "from sklearn.metrics import classification_report\n",
    "\n",
    "# Evaluate original model\n",
    "y_pred_original = rf_model.predict(X_test)\n",
    "print(\"Original Model Evaluation:\")\n",
    "print(classification_report(y_test, y_pred_original))\n",
    "\n",
    "# Evaluate simulated model\n",
    "y_pred_simulated = rf_model_sim.predict(X_test_sim)\n",
    "print(\"Simulated Model Evaluation:\")\n",
    "print(classification_report(y_test_sim, y_pred_simulated))\n"
   ]
  },
  {
   "cell_type": "code",
   "execution_count": null,
   "id": "a85e3022-8675-4b60-9fb7-2acf59c07625",
   "metadata": {},
   "outputs": [],
   "source": []
  },
  {
   "cell_type": "markdown",
   "id": "ba0ea4ff-5ad1-4ba4-ac92-52689cf7a729",
   "metadata": {},
   "source": [
    "# Step 3: Customer Lifetime Value (CLV) Simulation"
   ]
  },
  {
   "cell_type": "code",
   "execution_count": null,
   "id": "3ec2db6a-83de-4dfc-b594-4bf279a58a1a",
   "metadata": {},
   "outputs": [],
   "source": [
    "# Define average revenue per customer and churn rate\n",
    "avg_revenue_per_customer = 100  # Example value\n",
    "churn_rate_original = y_test.mean()\n",
    "churn_rate_simulated = y_test_sim.mean()\n",
    "\n",
    "# Calculate CLV impact\n",
    "clv_original = avg_revenue_per_customer * (1 / churn_rate_original)\n",
    "clv_simulated = avg_revenue_per_customer * (1 / churn_rate_simulated)\n",
    "\n",
    "print(f\"Original CLV: ${clv_original:.2f}\")\n",
    "print(f\"Simulated CLV: ${clv_simulated:.2f}\")\n"
   ]
  },
  {
   "cell_type": "code",
   "execution_count": null,
   "id": "fb61ea97-e0fc-4f2a-9894-0169b8ead28f",
   "metadata": {},
   "outputs": [],
   "source": []
  },
  {
   "cell_type": "markdown",
   "id": "167cb191-0bb8-4188-b3e0-e7c6b92a740b",
   "metadata": {},
   "source": [
    "Summary of Steps\n",
    "\n",
    "Define Strategies: Based on the key features from SHAP and LIME, create specific strategies like discounts, personalized offers, or improved customer service.\n",
    "\n",
    "Simulate Strategies: Modify your dataset to reflect these strategies and retrain your model to assess the impact.\n",
    "\n",
    "Evaluate Impact: Compare model performance and calculate changes in CLV to understand the potential effectiveness of your strategies."
   ]
  },
  {
   "cell_type": "code",
   "execution_count": null,
   "id": "e471d94a-39c5-44f8-97fe-3c24fc0ea924",
   "metadata": {},
   "outputs": [],
   "source": []
  },
  {
   "cell_type": "markdown",
   "id": "9810c31c-d0a9-463e-a175-2531ed36c0aa",
   "metadata": {},
   "source": [
    "# Question 7 "
   ]
  },
  {
   "cell_type": "markdown",
   "id": "9a148471-8d1f-4510-b913-2cdb8500f330",
   "metadata": {},
   "source": [
    "Deployment and Monitoring:\n",
    "Build a system that flags customers at high risk of churning in real-time, allowing the business to take proactive measures.\n",
    "Use tools like Flask or FastAPI to create an API that integrates with a CRM system or marketing platform for automated retention actions.\n",
    "Monitor the performance of the churn model over time and update it as customer behavior evolves."
   ]
  },
  {
   "cell_type": "code",
   "execution_count": 2,
   "id": "2bffd1eb-2418-4c6d-9108-5e86fb26d100",
   "metadata": {},
   "outputs": [
    {
     "name": "stdout",
     "output_type": "stream",
     "text": [
      "Defaulting to user installation because normal site-packages is not writeable\n",
      "Requirement already satisfied: requests in c:\\programdata\\anaconda3\\lib\\site-packages (2.32.2)\n",
      "Requirement already satisfied: charset-normalizer<4,>=2 in c:\\programdata\\anaconda3\\lib\\site-packages (from requests) (2.0.4)\n",
      "Requirement already satisfied: idna<4,>=2.5 in c:\\programdata\\anaconda3\\lib\\site-packages (from requests) (3.7)\n",
      "Requirement already satisfied: urllib3<3,>=1.21.1 in c:\\programdata\\anaconda3\\lib\\site-packages (from requests) (2.2.2)\n",
      "Requirement already satisfied: certifi>=2017.4.17 in c:\\programdata\\anaconda3\\lib\\site-packages (from requests) (2024.6.2)\n",
      "Note: you may need to restart the kernel to use updated packages.\n"
     ]
    }
   ],
   "source": [
    "pip install requests\n"
   ]
  },
  {
   "cell_type": "code",
   "execution_count": 4,
   "id": "ab1bfae1-dbe9-4a56-8b64-ea713f4e51e2",
   "metadata": {},
   "outputs": [
    {
     "name": "stdout",
     "output_type": "stream",
     "text": [
      "Response: {'example': 'This is an example', 'data': 0}\n"
     ]
    }
   ],
   "source": [
    "import requests\n",
    "\n",
    "# URL of your FastAPI application\n",
    "url = \"http://127.0.0.1:8000/\"\n",
    "\n",
    "# Send a GET request\n",
    "response = requests.get(url)\n",
    "\n",
    "# Check the response\n",
    "if response.status_code == 200:\n",
    "    print(\"Response:\", response.json())\n",
    "else:\n",
    "    print(\"Failed to retrieve data. Status code:\", response.status_code)\n"
   ]
  },
  {
   "cell_type": "code",
   "execution_count": 12,
   "id": "2930e056-2f68-43c5-8541-14f6646163a3",
   "metadata": {},
   "outputs": [
    {
     "data": {
      "text/plain": [
       "['churn_model.pkl']"
      ]
     },
     "execution_count": 12,
     "metadata": {},
     "output_type": "execute_result"
    }
   ],
   "source": [
    "import joblib\n",
    "\n",
    "# Save the trained model to a file\n",
    "model_filename = 'churn_model.pkl'\n",
    "joblib.dump(model, model_filename)\n"
   ]
  },
  {
   "cell_type": "code",
   "execution_count": 14,
   "id": "ed85a1df-b44a-456a-b00f-77c1c43091bc",
   "metadata": {},
   "outputs": [
    {
     "name": "stdout",
     "output_type": "stream",
     "text": [
      "Defaulting to user installation because normal site-packages is not writeable\n",
      "Requirement already satisfied: fastapi in c:\\users\\octav\\appdata\\roaming\\python\\python312\\site-packages (0.112.2)\n",
      "Requirement already satisfied: uvicorn in c:\\users\\octav\\appdata\\roaming\\python\\python312\\site-packages (0.30.6)\n",
      "Requirement already satisfied: starlette<0.39.0,>=0.37.2 in c:\\users\\octav\\appdata\\roaming\\python\\python312\\site-packages (from fastapi) (0.38.4)\n",
      "Requirement already satisfied: pydantic!=1.8,!=1.8.1,!=2.0.0,!=2.0.1,!=2.1.0,<3.0.0,>=1.7.4 in c:\\users\\octav\\appdata\\roaming\\python\\python312\\site-packages (from fastapi) (2.8.2)\n",
      "Requirement already satisfied: typing-extensions>=4.8.0 in c:\\programdata\\anaconda3\\lib\\site-packages (from fastapi) (4.11.0)\n",
      "Requirement already satisfied: click>=7.0 in c:\\programdata\\anaconda3\\lib\\site-packages (from uvicorn) (8.1.7)\n",
      "Requirement already satisfied: h11>=0.8 in c:\\programdata\\anaconda3\\lib\\site-packages (from uvicorn) (0.14.0)\n",
      "Requirement already satisfied: colorama in c:\\programdata\\anaconda3\\lib\\site-packages (from click>=7.0->uvicorn) (0.4.6)\n",
      "Requirement already satisfied: annotated-types>=0.4.0 in c:\\programdata\\anaconda3\\lib\\site-packages (from pydantic!=1.8,!=1.8.1,!=2.0.0,!=2.0.1,!=2.1.0,<3.0.0,>=1.7.4->fastapi) (0.6.0)\n",
      "Requirement already satisfied: pydantic-core==2.20.1 in c:\\users\\octav\\appdata\\roaming\\python\\python312\\site-packages (from pydantic!=1.8,!=1.8.1,!=2.0.0,!=2.0.1,!=2.1.0,<3.0.0,>=1.7.4->fastapi) (2.20.1)\n",
      "Requirement already satisfied: anyio<5,>=3.4.0 in c:\\programdata\\anaconda3\\lib\\site-packages (from starlette<0.39.0,>=0.37.2->fastapi) (4.2.0)\n",
      "Requirement already satisfied: idna>=2.8 in c:\\programdata\\anaconda3\\lib\\site-packages (from anyio<5,>=3.4.0->starlette<0.39.0,>=0.37.2->fastapi) (3.7)\n",
      "Requirement already satisfied: sniffio>=1.1 in c:\\programdata\\anaconda3\\lib\\site-packages (from anyio<5,>=3.4.0->starlette<0.39.0,>=0.37.2->fastapi) (1.3.0)\n"
     ]
    }
   ],
   "source": [
    "!pip install fastapi uvicorn\n"
   ]
  },
  {
   "cell_type": "code",
   "execution_count": null,
   "id": "22d7aaa1-1b4f-4f56-9014-1c57376ba3c6",
   "metadata": {},
   "outputs": [],
   "source": []
  },
  {
   "cell_type": "code",
   "execution_count": 34,
   "id": "294d9d33-e3f0-4a9f-bace-d8c99ae7974a",
   "metadata": {},
   "outputs": [
    {
     "data": {
      "text/plain": [
       "{'message': 'Data received',\n",
       " 'data': {'gender': 1,\n",
       "  'SeniorCitizen': 0,\n",
       "  'Partner': 1,\n",
       "  'Dependents': 0,\n",
       "  'tenure': 12,\n",
       "  'PhoneService': 1,\n",
       "  'MultipleLines': 0,\n",
       "  'InternetService': 1,\n",
       "  'OnlineSecurity': 1,\n",
       "  'OnlineBackup': 0,\n",
       "  'DeviceProtection': 0,\n",
       "  'TechSupport': 1,\n",
       "  'StreamingTV': 0,\n",
       "  'StreamingMovies': 0,\n",
       "  'Contract': 1,\n",
       "  'PaperlessBilling': 1,\n",
       "  'PaymentMethod': 1,\n",
       "  'MonthlyCharges': 70.0,\n",
       "  'TotalCharges': 840.0}}"
      ]
     },
     "execution_count": 34,
     "metadata": {},
     "output_type": "execute_result"
    }
   ],
   "source": [
    "import requests\n",
    "\n",
    "# Function to test the prediction API\n",
    "def test_api():\n",
    "    customer_data = {\n",
    "        \"gender\": 1,\n",
    "        \"SeniorCitizen\": 0,\n",
    "        \"Partner\": 1,\n",
    "        \"Dependents\": 0,\n",
    "        \"tenure\": 12,\n",
    "        \"PhoneService\": 1,\n",
    "        \"MultipleLines\": 0,\n",
    "        \"InternetService\": 1,\n",
    "        \"OnlineSecurity\": 1,\n",
    "        \"OnlineBackup\": 0,\n",
    "        \"DeviceProtection\": 0,\n",
    "        \"TechSupport\": 1,\n",
    "        \"StreamingTV\": 0,\n",
    "        \"StreamingMovies\": 0,\n",
    "        \"Contract\": 1,\n",
    "        \"PaperlessBilling\": 1,\n",
    "        \"PaymentMethod\": 1,\n",
    "        \"MonthlyCharges\": 70.0,\n",
    "        \"TotalCharges\": 840.0\n",
    "    }\n",
    "    response = requests.post(\"http://127.0.0.1:8000/predict_churn\", json=customer_data)\n",
    "    if response.status_code == 200:\n",
    "        return response.json()\n",
    "    else:\n",
    "        return {\"error\": f\"Failed to get prediction. Status code: {response.status_code}\"}\n",
    "\n",
    "# Test the API\n",
    "test_api()\n"
   ]
  },
  {
   "cell_type": "code",
   "execution_count": 36,
   "id": "7212bdca-56b6-4363-9899-284f57de76f3",
   "metadata": {},
   "outputs": [
    {
     "name": "stdout",
     "output_type": "stream",
     "text": [
      "Defaulting to user installation because normal site-packages is not writeable\n",
      "Requirement already satisfied: matplotlib in c:\\programdata\\anaconda3\\lib\\site-packages (3.8.4)\n",
      "Requirement already satisfied: seaborn in c:\\programdata\\anaconda3\\lib\\site-packages (0.13.2)\n",
      "Requirement already satisfied: contourpy>=1.0.1 in c:\\programdata\\anaconda3\\lib\\site-packages (from matplotlib) (1.2.0)\n",
      "Requirement already satisfied: cycler>=0.10 in c:\\programdata\\anaconda3\\lib\\site-packages (from matplotlib) (0.11.0)\n",
      "Requirement already satisfied: fonttools>=4.22.0 in c:\\programdata\\anaconda3\\lib\\site-packages (from matplotlib) (4.51.0)\n",
      "Requirement already satisfied: kiwisolver>=1.3.1 in c:\\programdata\\anaconda3\\lib\\site-packages (from matplotlib) (1.4.4)\n",
      "Requirement already satisfied: numpy>=1.21 in c:\\programdata\\anaconda3\\lib\\site-packages (from matplotlib) (1.26.4)\n",
      "Requirement already satisfied: packaging>=20.0 in c:\\programdata\\anaconda3\\lib\\site-packages (from matplotlib) (23.2)\n",
      "Requirement already satisfied: pillow>=8 in c:\\programdata\\anaconda3\\lib\\site-packages (from matplotlib) (10.3.0)\n",
      "Requirement already satisfied: pyparsing>=2.3.1 in c:\\programdata\\anaconda3\\lib\\site-packages (from matplotlib) (3.0.9)\n",
      "Requirement already satisfied: python-dateutil>=2.7 in c:\\programdata\\anaconda3\\lib\\site-packages (from matplotlib) (2.9.0.post0)\n",
      "Requirement already satisfied: pandas>=1.2 in c:\\programdata\\anaconda3\\lib\\site-packages (from seaborn) (2.2.2)\n",
      "Requirement already satisfied: pytz>=2020.1 in c:\\programdata\\anaconda3\\lib\\site-packages (from pandas>=1.2->seaborn) (2024.1)\n",
      "Requirement already satisfied: tzdata>=2022.7 in c:\\programdata\\anaconda3\\lib\\site-packages (from pandas>=1.2->seaborn) (2023.3)\n",
      "Requirement already satisfied: six>=1.5 in c:\\programdata\\anaconda3\\lib\\site-packages (from python-dateutil>=2.7->matplotlib) (1.16.0)\n",
      "Note: you may need to restart the kernel to use updated packages.\n"
     ]
    }
   ],
   "source": [
    "pip install matplotlib seaborn\n"
   ]
  },
  {
   "cell_type": "code",
   "execution_count": 38,
   "id": "63ee4b82-7632-4176-8185-75fc734ebc1d",
   "metadata": {},
   "outputs": [
    {
     "name": "stderr",
     "output_type": "stream",
     "text": [
      "C:\\Users\\octav\\AppData\\Local\\Temp\\ipykernel_12244\\3821118704.py:50: FutureWarning: \n",
      "\n",
      "Passing `palette` without assigning `hue` is deprecated and will be removed in v0.14.0. Assign the `x` variable to `hue` and set `legend=False` for the same effect.\n",
      "\n",
      "  sns.barplot(x=list(range(len(customers))), y=predictions, palette=\"viridis\")\n"
     ]
    },
    {
     "data": {
      "image/png": "[encoded data removed]",
      "text/plain": [
       "<Figure size 1000x600 with 1 Axes>"
      ]
     },
     "metadata": {},
     "output_type": "display_data"
    }
   ],
   "source": [
    "import requests\n",
    "import matplotlib.pyplot as plt\n",
    "import seaborn as sns\n",
    "\n",
    "# Function to test the prediction API\n",
    "def test_api(customer_data):\n",
    "    response = requests.post(\"http://127.0.0.1:8000/predict_churn\", json=customer_data)\n",
    "    if response.status_code == 200:\n",
    "        return response.json()\n",
    "    else:\n",
    "        return {\"error\": f\"Failed to get prediction. Status code: {response.status_code}\"}\n",
    "\n",
    "# Example customer data\n",
    "customers = [\n",
    "    {\n",
    "        \"gender\": 1,\n",
    "        \"SeniorCitizen\": 0,\n",
    "        \"Partner\": 1,\n",
    "        \"Dependents\": 0,\n",
    "        \"tenure\": 12,\n",
    "        \"PhoneService\": 1,\n",
    "        \"MultipleLines\": 0,\n",
    "        \"InternetService\": 1,\n",
    "        \"OnlineSecurity\": 1,\n",
    "        \"OnlineBackup\": 0,\n",
    "        \"DeviceProtection\": 0,\n",
    "        \"TechSupport\": 1,\n",
    "        \"StreamingTV\": 0,\n",
    "        \"StreamingMovies\": 0,\n",
    "        \"Contract\": 1,\n",
    "        \"PaperlessBilling\": 1,\n",
    "        \"PaymentMethod\": 1,\n",
    "        \"MonthlyCharges\": 70.0,\n",
    "        \"TotalCharges\": 840.0\n",
    "    },\n",
    "    # Add more customer profiles here\n",
    "]\n",
    "\n",
    "# Store predictions\n",
    "predictions = []\n",
    "for customer in customers:\n",
    "    result = test_api(customer)\n",
    "    if \"churn_risk\" in result:\n",
    "        predictions.append(result[\"churn_risk\"])\n",
    "    else:\n",
    "        predictions.append(None)\n",
    "\n",
    "# Create a bar plot of predictions\n",
    "plt.figure(figsize=(10, 6))\n",
    "sns.barplot(x=list(range(len(customers))), y=predictions, palette=\"viridis\")\n",
    "plt.xlabel('Customer Index')\n",
    "plt.ylabel('Churn Risk')\n",
    "plt.title('Churn Risk Predictions for Various Customers')\n",
    "plt.show()\n"
   ]
  },
  {
   "cell_type": "code",
   "execution_count": 40,
   "id": "22479cd0-418a-4f44-ae54-46d5af879e47",
   "metadata": {},
   "outputs": [
    {
     "name": "stderr",
     "output_type": "stream",
     "text": [
      "C:\\Users\\octav\\AppData\\Local\\Temp\\ipykernel_12244\\2414170856.py:56: FutureWarning: \n",
      "\n",
      "Passing `palette` without assigning `hue` is deprecated and will be removed in v0.14.0. Assign the `y` variable to `hue` and set `legend=False` for the same effect.\n",
      "\n",
      "  sns.barplot(x=list(range(len(test_customers))), y=test_results, palette=\"plasma\")\n"
     ]
    },
    {
     "data": {
      "image/png": "[encoded data removed]",
      "text/plain": [
       "<Figure size 1000x600 with 1 Axes>"
      ]
     },
     "metadata": {},
     "output_type": "display_data"
    }
   ],
   "source": [
    "# Define more varied customer data\n",
    "test_customers = [\n",
    "    {\n",
    "        \"gender\": 1,\n",
    "        \"SeniorCitizen\": 0,\n",
    "        \"Partner\": 1,\n",
    "        \"Dependents\": 0,\n",
    "        \"tenure\": 5,\n",
    "        \"PhoneService\": 0,\n",
    "        \"MultipleLines\": 0,\n",
    "        \"InternetService\": 1,\n",
    "        \"OnlineSecurity\": 0,\n",
    "        \"OnlineBackup\": 1,\n",
    "        \"DeviceProtection\": 1,\n",
    "        \"TechSupport\": 0,\n",
    "        \"StreamingTV\": 1,\n",
    "        \"StreamingMovies\": 1,\n",
    "        \"Contract\": 2,\n",
    "        \"PaperlessBilling\": 1,\n",
    "        \"PaymentMethod\": 2,\n",
    "        \"MonthlyCharges\": 90.0,\n",
    "        \"TotalCharges\": 500.0\n",
    "    },\n",
    "    {\n",
    "        \"gender\": 0,\n",
    "        \"SeniorCitizen\": 1,\n",
    "        \"Partner\": 0,\n",
    "        \"Dependents\": 1,\n",
    "        \"tenure\": 24,\n",
    "        \"PhoneService\": 1,\n",
    "        \"MultipleLines\": 1,\n",
    "        \"InternetService\": 0,\n",
    "        \"OnlineSecurity\": 0,\n",
    "        \"OnlineBackup\": 0,\n",
    "        \"DeviceProtection\": 0,\n",
    "        \"TechSupport\": 0,\n",
    "        \"StreamingTV\": 0,\n",
    "        \"StreamingMovies\": 0,\n",
    "        \"Contract\": 1,\n",
    "        \"PaperlessBilling\": 0,\n",
    "        \"PaymentMethod\": 1,\n",
    "        \"MonthlyCharges\": 50.0,\n",
    "        \"TotalCharges\": 1200.0\n",
    "    },\n",
    "    # Add more test cases\n",
    "]\n",
    "\n",
    "# Collect and visualize results for different test cases\n",
    "test_results = []\n",
    "for customer in test_customers:\n",
    "    result = test_api(customer)\n",
    "    test_results.append(result.get(\"churn_risk\", \"Error\"))\n",
    "\n",
    "# Create a bar plot for test results\n",
    "plt.figure(figsize=(10, 6))\n",
    "sns.barplot(x=list(range(len(test_customers))), y=test_results, palette=\"plasma\")\n",
    "plt.xlabel('Test Case Index')\n",
    "plt.ylabel('Churn Risk')\n",
    "plt.title('Churn Risk Predictions for Different Test Cases')\n",
    "plt.show()\n"
   ]
  },
  {
   "cell_type": "markdown",
   "id": "6c1c0d96-02af-416b-aedb-071805658863",
   "metadata": {},
   "source": [
    "Summary of Findings and Next Steps\n",
    "1. API Development with FastAPI\n",
    "Setup: We created a FastAPI application to expose an endpoint for predicting customer churn. The endpoint /predict_churn accepts POST requests with customer data and returns a churn risk prediction.\n",
    "Testing: We tested the API using the requests library to ensure it was returning the expected predictions.\n",
    "2. Visualization and Testing\n",
    "Visualization: We used matplotlib to create bar plots visualizing churn risk predictions for various customer profiles. This was done to get a clear picture of how different customer profiles affect churn predictions.\n",
    "Bar Plot: Displayed predictions with custom colors using matplotlib, avoiding deprecation warnings related to seaborn.\n",
    "Additional Tests: We planned additional test cases with varied customer profiles to assess how well the model handles different scenarios.\n",
    "3. Monitoring and Updating the Churn Model\n",
    "To effectively monitor and update your churn model over time, consider the following steps:\n",
    "\n",
    "Establish Monitoring Metrics:\n",
    "\n",
    "Performance Metrics: Track metrics such as accuracy, precision, recall, and F1 score for the churn model. This helps in understanding how well the model is performing.\n",
    "Operational Metrics: Monitor API response times, error rates, and throughput to ensure the API performs reliably.\n",
    "Automate Data Collection:\n",
    "\n",
    "Logs: Implement logging to capture API requests, responses, and errors. This data can be used for further analysis and debugging.\n",
    "Real-Time Data: Integrate the model with a CRM system or marketing platform to collect real-time customer data and churn predictions.\n",
    "Regular Model Evaluation:\n",
    "\n",
    "Retraining Schedule: Establish a schedule for regular evaluation and retraining of the model. This could be monthly, quarterly, or based on specific triggers.\n",
    "Performance Comparison: Compare the performance of the current model with previous versions to identify improvements or regressions.\n",
    "Update Model Based on New Data:\n",
    "\n",
    "Feature Engineering: Update features and retrain the model as customer behavior evolves. New features or changes in existing features might be necessary to maintain model accuracy.\n",
    "Data Quality: Ensure the data used for retraining is of high quality and reflects current customer behavior.\n",
    "Feedback Loop:\n",
    "\n",
    "Stakeholder Input: Regularly gather feedback from business stakeholders to understand if the model's predictions align with business goals and expectations.\n",
    "Customer Feedback: Incorporate feedback from customers or customer service teams to improve the model's predictions.\n",
    "Documentation and Reporting:\n",
    "\n",
    "Documentation: Maintain comprehensive documentation for the model, including the training process, features used, and performance metrics.\n",
    "Reporting: Generate reports on model performance and updates for stakeholders to keep them informed about the model's effectiveness.\n",
    "Conclusion\n",
    "We successfully set up and tested an API for churn prediction and created visualizations to interpret model results. Moving forward, we should focus on monitoring the model’s performance, automating data collection, and updating the model as needed based on evolving customer behavior. Regular evaluation and feedback will ensure that the model remains accurate and useful for predicting customer churn."
   ]
  },
  {
   "cell_type": "code",
   "execution_count": null,
   "id": "e7e85d7c-64b4-4dbc-ba62-6f408f1fe3e1",
   "metadata": {},
   "outputs": [],
   "source": []
  }
 ],
 "metadata": {
  "kernelspec": {
   "display_name": "Python 3 (ipykernel)",
   "language": "python",
   "name": "python3"
  },
  "language_info": {
   "codemirror_mode": {
    "name": "ipython",
    "version": 3
   },
   "file_extension": ".py",
   "mimetype": "text/x-python",
   "name": "python",
   "nbconvert_exporter": "python",
   "pygments_lexer": "ipython3",
   "version": "3.12.4"
  }
 },
 "nbformat": 4,
 "nbformat_minor": 5
}
